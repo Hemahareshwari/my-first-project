{
 "cells": [
  {
   "cell_type": "code",
   "execution_count": 1,
   "metadata": {},
   "outputs": [],
   "source": [
    "### Loading the necessary libraries\n",
    "import pandas as pd\n",
    "import numpy as np\n",
    "import os"
   ]
  },
  {
   "cell_type": "code",
   "execution_count": 6,
   "metadata": {},
   "outputs": [],
   "source": [
    "### Reading an excel file using read_excel function\n",
    "Demo= pd.read_excel(\"Demographics.xlsx\",sheet_name=\"Demographics\")\n",
    "### Reading other two sheets\n",
    "Prod= pd.read_excel(\"Products.xlsx\",sheet_name=\"ProductData\")\n",
    "Trans= pd.read_excel(\"Transactions.xlsx\",sheet_name=\"TransactionsData\")"
   ]
  },
  {
   "cell_type": "code",
   "execution_count": 4,
   "metadata": {},
   "outputs": [
    {
     "data": {
      "text/plain": [
       "Index(['User_ID', 'Gender', 'Age', 'Occupation', 'City_Category',\n",
       "       'Stay_In_Current_City_Years', 'Marital_Status'],\n",
       "      dtype='object')"
      ]
     },
     "execution_count": 4,
     "metadata": {},
     "output_type": "execute_result"
    }
   ],
   "source": [
    "### Display the column names of the demographic data\n",
    "Demo.columns"
   ]
  },
  {
   "cell_type": "markdown",
   "metadata": {},
   "source": [
    "##### After reading all the required files. Let's do a preliminary analysis.\n",
    "- Generally this consists of understanding of the data \n",
    "    - How many records and how many attributes are there \n",
    "    - What are the data types of these attributes \n",
    "    - Are there any missing values in the data "
   ]
  },
  {
   "cell_type": "code",
   "execution_count": 7,
   "metadata": {},
   "outputs": [
    {
     "name": "stdout",
     "output_type": "stream",
     "text": [
      "DEMO HEAD\n",
      "    User_ID Gender   Age  Occupation City_Category Stay_In_Current_City_Years  \\\n",
      "0  1000001      F  15.0          10             A                          2   \n",
      "1  1000002      M  69.0          16             C                         4+   \n",
      "2  1000003      M  34.0          15             A                          3   \n",
      "\n",
      "   Marital_Status  \n",
      "0               0  \n",
      "1               0  \n",
      "2               0  \n",
      "\n",
      "\n",
      "\n",
      "\n",
      "DEMO TAIL \n",
      "       User_ID Gender   Age  Occupation City_Category  \\\n",
      "5905  1007092      M  45.0           8             C   \n",
      "5906  1007095      M  41.0           8             C   \n",
      "5907  1007099      F  47.0           8             C   \n",
      "\n",
      "     Stay_In_Current_City_Years  Marital_Status  \n",
      "5905                         4+               1  \n",
      "5906                         4+               1  \n",
      "5907                         4+               1  \n",
      "\n",
      "\n",
      "\n",
      "\n"
     ]
    },
    {
     "data": {
      "text/html": [
       "<div>\n",
       "<style scoped>\n",
       "    .dataframe tbody tr th:only-of-type {\n",
       "        vertical-align: middle;\n",
       "    }\n",
       "\n",
       "    .dataframe tbody tr th {\n",
       "        vertical-align: top;\n",
       "    }\n",
       "\n",
       "    .dataframe thead th {\n",
       "        text-align: right;\n",
       "    }\n",
       "</style>\n",
       "<table border=\"1\" class=\"dataframe\">\n",
       "  <thead>\n",
       "    <tr style=\"text-align: right;\">\n",
       "      <th></th>\n",
       "      <th>User_ID</th>\n",
       "      <th>Gender</th>\n",
       "      <th>Age</th>\n",
       "      <th>Occupation</th>\n",
       "      <th>City_Category</th>\n",
       "      <th>Stay_In_Current_City_Years</th>\n",
       "      <th>Marital_Status</th>\n",
       "    </tr>\n",
       "  </thead>\n",
       "  <tbody>\n",
       "    <tr>\n",
       "      <th>count</th>\n",
       "      <td>5.908000e+03</td>\n",
       "      <td>5908</td>\n",
       "      <td>5905.000000</td>\n",
       "      <td>5908.000000</td>\n",
       "      <td>5908</td>\n",
       "      <td>5908</td>\n",
       "      <td>5908.000000</td>\n",
       "    </tr>\n",
       "    <tr>\n",
       "      <th>unique</th>\n",
       "      <td>NaN</td>\n",
       "      <td>2</td>\n",
       "      <td>NaN</td>\n",
       "      <td>NaN</td>\n",
       "      <td>3</td>\n",
       "      <td>7</td>\n",
       "      <td>NaN</td>\n",
       "    </tr>\n",
       "    <tr>\n",
       "      <th>top</th>\n",
       "      <td>NaN</td>\n",
       "      <td>M</td>\n",
       "      <td>NaN</td>\n",
       "      <td>NaN</td>\n",
       "      <td>C</td>\n",
       "      <td>1</td>\n",
       "      <td>NaN</td>\n",
       "    </tr>\n",
       "    <tr>\n",
       "      <th>freq</th>\n",
       "      <td>NaN</td>\n",
       "      <td>4235</td>\n",
       "      <td>NaN</td>\n",
       "      <td>NaN</td>\n",
       "      <td>3149</td>\n",
       "      <td>2086</td>\n",
       "      <td>NaN</td>\n",
       "    </tr>\n",
       "    <tr>\n",
       "      <th>mean</th>\n",
       "      <td>1.003027e+06</td>\n",
       "      <td>NaN</td>\n",
       "      <td>35.960711</td>\n",
       "      <td>8.155890</td>\n",
       "      <td>NaN</td>\n",
       "      <td>NaN</td>\n",
       "      <td>0.420785</td>\n",
       "    </tr>\n",
       "    <tr>\n",
       "      <th>std</th>\n",
       "      <td>1.749989e+03</td>\n",
       "      <td>NaN</td>\n",
       "      <td>12.986736</td>\n",
       "      <td>6.318067</td>\n",
       "      <td>NaN</td>\n",
       "      <td>NaN</td>\n",
       "      <td>0.493727</td>\n",
       "    </tr>\n",
       "    <tr>\n",
       "      <th>min</th>\n",
       "      <td>1.000001e+06</td>\n",
       "      <td>NaN</td>\n",
       "      <td>15.000000</td>\n",
       "      <td>0.000000</td>\n",
       "      <td>NaN</td>\n",
       "      <td>NaN</td>\n",
       "      <td>0.000000</td>\n",
       "    </tr>\n",
       "    <tr>\n",
       "      <th>25%</th>\n",
       "      <td>1.001515e+06</td>\n",
       "      <td>NaN</td>\n",
       "      <td>26.000000</td>\n",
       "      <td>3.000000</td>\n",
       "      <td>NaN</td>\n",
       "      <td>NaN</td>\n",
       "      <td>0.000000</td>\n",
       "    </tr>\n",
       "    <tr>\n",
       "      <th>50%</th>\n",
       "      <td>1.003026e+06</td>\n",
       "      <td>NaN</td>\n",
       "      <td>34.000000</td>\n",
       "      <td>7.000000</td>\n",
       "      <td>NaN</td>\n",
       "      <td>NaN</td>\n",
       "      <td>0.000000</td>\n",
       "    </tr>\n",
       "    <tr>\n",
       "      <th>75%</th>\n",
       "      <td>1.004536e+06</td>\n",
       "      <td>NaN</td>\n",
       "      <td>45.000000</td>\n",
       "      <td>14.000000</td>\n",
       "      <td>NaN</td>\n",
       "      <td>NaN</td>\n",
       "      <td>1.000000</td>\n",
       "    </tr>\n",
       "    <tr>\n",
       "      <th>max</th>\n",
       "      <td>1.007099e+06</td>\n",
       "      <td>NaN</td>\n",
       "      <td>129.000000</td>\n",
       "      <td>20.000000</td>\n",
       "      <td>NaN</td>\n",
       "      <td>NaN</td>\n",
       "      <td>1.000000</td>\n",
       "    </tr>\n",
       "  </tbody>\n",
       "</table>\n",
       "</div>"
      ],
      "text/plain": [
       "             User_ID Gender          Age   Occupation City_Category  \\\n",
       "count   5.908000e+03   5908  5905.000000  5908.000000          5908   \n",
       "unique           NaN      2          NaN          NaN             3   \n",
       "top              NaN      M          NaN          NaN             C   \n",
       "freq             NaN   4235          NaN          NaN          3149   \n",
       "mean    1.003027e+06    NaN    35.960711     8.155890           NaN   \n",
       "std     1.749989e+03    NaN    12.986736     6.318067           NaN   \n",
       "min     1.000001e+06    NaN    15.000000     0.000000           NaN   \n",
       "25%     1.001515e+06    NaN    26.000000     3.000000           NaN   \n",
       "50%     1.003026e+06    NaN    34.000000     7.000000           NaN   \n",
       "75%     1.004536e+06    NaN    45.000000    14.000000           NaN   \n",
       "max     1.007099e+06    NaN   129.000000    20.000000           NaN   \n",
       "\n",
       "       Stay_In_Current_City_Years  Marital_Status  \n",
       "count                        5908     5908.000000  \n",
       "unique                          7             NaN  \n",
       "top                             1             NaN  \n",
       "freq                         2086             NaN  \n",
       "mean                          NaN        0.420785  \n",
       "std                           NaN        0.493727  \n",
       "min                           NaN        0.000000  \n",
       "25%                           NaN        0.000000  \n",
       "50%                           NaN        0.000000  \n",
       "75%                           NaN        1.000000  \n",
       "max                           NaN        1.000000  "
      ]
     },
     "execution_count": 7,
     "metadata": {},
     "output_type": "execute_result"
    }
   ],
   "source": [
    "### Looking at the first three records\n",
    "print('DEMO HEAD\\n',Demo.head(3))\n",
    "print(\"\\n\")\n",
    "print(\"\\n\")\n",
    "\n",
    "### Looking at the last three records\n",
    "print('DEMO TAIL \\n',Demo.tail(3))\n",
    "print(\"\\n\")\n",
    "print(\"\\n\")\n",
    "\n",
    "Demo.describe(include='all')"
   ]
  },
  {
   "cell_type": "markdown",
   "metadata": {},
   "source": [
    "To observe the data types of each attribute\n",
    "- We use dataframe.dtypes\n",
    "- The data types given are how python interpreted them. Sometimes, they may be interpreted incorrectly. In such cases, we may have to change them to appropriate data types\n",
    "    - Data types we have Integer/Numeric, Object (Category), Boolean."
   ]
  },
  {
   "cell_type": "markdown",
   "metadata": {},
   "source": [
    "### Question: What are data types of Prod and Trans"
   ]
  },
  {
   "cell_type": "code",
   "execution_count": 9,
   "metadata": {},
   "outputs": [
    {
     "name": "stdout",
     "output_type": "stream",
     "text": [
      "Date          object\n",
      "User_ID        int64\n",
      "Product_ID    object\n",
      "Purchase       int64\n",
      "dtype: object \n",
      "\n",
      " Product_ID          object\n",
      "Product_Category     int64\n",
      "dtype: object\n"
     ]
    }
   ],
   "source": [
    "### Solution\n",
    "print(Trans.dtypes,'\\n\\n',Prod.dtypes)"
   ]
  },
  {
   "cell_type": "markdown",
   "metadata": {},
   "source": [
    "- Observe that the Product Category data type is interpreted as integer but we know that it should be a category. Just because it was represented in numbers, it was interpreted as numeric. So we need to convert it to category\n",
    "    - We use column.astype() function to change the data type"
   ]
  },
  {
   "cell_type": "markdown",
   "metadata": {},
   "source": [
    "#### Let's understand what is there in each data file"
   ]
  },
  {
   "cell_type": "code",
   "execution_count": 10,
   "metadata": {},
   "outputs": [
    {
     "data": {
      "text/plain": [
       "5900"
      ]
     },
     "execution_count": 10,
     "metadata": {},
     "output_type": "execute_result"
    }
   ],
   "source": [
    "Demo.User_ID.nunique()"
   ]
  },
  {
   "cell_type": "code",
   "execution_count": 15,
   "metadata": {},
   "outputs": [
    {
     "data": {
      "text/html": [
       "<div>\n",
       "<style scoped>\n",
       "    .dataframe tbody tr th:only-of-type {\n",
       "        vertical-align: middle;\n",
       "    }\n",
       "\n",
       "    .dataframe tbody tr th {\n",
       "        vertical-align: top;\n",
       "    }\n",
       "\n",
       "    .dataframe thead th {\n",
       "        text-align: right;\n",
       "    }\n",
       "</style>\n",
       "<table border=\"1\" class=\"dataframe\">\n",
       "  <thead>\n",
       "    <tr style=\"text-align: right;\">\n",
       "      <th></th>\n",
       "      <th>User_ID</th>\n",
       "      <th>Gender</th>\n",
       "      <th>Age</th>\n",
       "      <th>Occupation</th>\n",
       "      <th>City_Category</th>\n",
       "      <th>Stay_In_Current_City_Years</th>\n",
       "      <th>Marital_Status</th>\n",
       "    </tr>\n",
       "  </thead>\n",
       "  <tbody>\n",
       "    <tr>\n",
       "      <th>12</th>\n",
       "      <td>1000012</td>\n",
       "      <td>M</td>\n",
       "      <td>30.0</td>\n",
       "      <td>12</td>\n",
       "      <td>C</td>\n",
       "      <td>2</td>\n",
       "      <td>0</td>\n",
       "    </tr>\n",
       "    <tr>\n",
       "      <th>66</th>\n",
       "      <td>1000067</td>\n",
       "      <td>F</td>\n",
       "      <td>55.0</td>\n",
       "      <td>5</td>\n",
       "      <td>C</td>\n",
       "      <td>4+</td>\n",
       "      <td>1</td>\n",
       "    </tr>\n",
       "    <tr>\n",
       "      <th>67</th>\n",
       "      <td>1000067</td>\n",
       "      <td>F</td>\n",
       "      <td>55.0</td>\n",
       "      <td>5</td>\n",
       "      <td>C</td>\n",
       "      <td>4+</td>\n",
       "      <td>1</td>\n",
       "    </tr>\n",
       "    <tr>\n",
       "      <th>68</th>\n",
       "      <td>1000067</td>\n",
       "      <td>F</td>\n",
       "      <td>55.0</td>\n",
       "      <td>5</td>\n",
       "      <td>C</td>\n",
       "      <td>4+</td>\n",
       "      <td>1</td>\n",
       "    </tr>\n",
       "    <tr>\n",
       "      <th>221</th>\n",
       "      <td>1000220</td>\n",
       "      <td>M</td>\n",
       "      <td>34.0</td>\n",
       "      <td>12</td>\n",
       "      <td>A</td>\n",
       "      <td>3</td>\n",
       "      <td>0</td>\n",
       "    </tr>\n",
       "    <tr>\n",
       "      <th>222</th>\n",
       "      <td>1000220</td>\n",
       "      <td>M</td>\n",
       "      <td>34.0</td>\n",
       "      <td>12</td>\n",
       "      <td>A</td>\n",
       "      <td>3</td>\n",
       "      <td>0</td>\n",
       "    </tr>\n",
       "    <tr>\n",
       "      <th>1126</th>\n",
       "      <td>1001158</td>\n",
       "      <td>F</td>\n",
       "      <td>39.0</td>\n",
       "      <td>1</td>\n",
       "      <td>C</td>\n",
       "      <td>2</td>\n",
       "      <td>1</td>\n",
       "    </tr>\n",
       "    <tr>\n",
       "      <th>2151</th>\n",
       "      <td>1002203</td>\n",
       "      <td>M</td>\n",
       "      <td>49.0</td>\n",
       "      <td>12</td>\n",
       "      <td>B</td>\n",
       "      <td>4+</td>\n",
       "      <td>1</td>\n",
       "    </tr>\n",
       "  </tbody>\n",
       "</table>\n",
       "</div>"
      ],
      "text/plain": [
       "      User_ID Gender   Age  Occupation City_Category  \\\n",
       "12    1000012      M  30.0          12             C   \n",
       "66    1000067      F  55.0           5             C   \n",
       "67    1000067      F  55.0           5             C   \n",
       "68    1000067      F  55.0           5             C   \n",
       "221   1000220      M  34.0          12             A   \n",
       "222   1000220      M  34.0          12             A   \n",
       "1126  1001158      F  39.0           1             C   \n",
       "2151  1002203      M  49.0          12             B   \n",
       "\n",
       "     Stay_In_Current_City_Years  Marital_Status  \n",
       "12                            2               0  \n",
       "66                           4+               1  \n",
       "67                           4+               1  \n",
       "68                           4+               1  \n",
       "221                           3               0  \n",
       "222                           3               0  \n",
       "1126                          2               1  \n",
       "2151                         4+               1  "
      ]
     },
     "execution_count": 15,
     "metadata": {},
     "output_type": "execute_result"
    }
   ],
   "source": [
    "## Analysing the duplicate records\n",
    "# x=Demo.duplicated(keep='first')\n",
    "# Demo[x]\n",
    "Demo[Demo.duplicated(keep='first')]"
   ]
  },
  {
   "cell_type": "code",
   "execution_count": 16,
   "metadata": {},
   "outputs": [
    {
     "name": "stdout",
     "output_type": "stream",
     "text": [
      "(5900, 7)\n",
      "5900\n"
     ]
    }
   ],
   "source": [
    "## Ignoring the duplicate records\n",
    "Data=Demo.drop_duplicates(keep='first')\n",
    "print(Data.shape)\n",
    "print(Data['User_ID'].nunique())"
   ]
  },
  {
   "cell_type": "markdown",
   "metadata": {},
   "source": [
    "#### We start with demographics data\n",
    "Is customer data dominating by any particular demographic segment? Or uniform?"
   ]
  },
  {
   "cell_type": "code",
   "execution_count": 17,
   "metadata": {},
   "outputs": [
    {
     "data": {
      "text/plain": [
       "M    0.717119\n",
       "F    0.282881\n",
       "Name: Gender, dtype: float64"
      ]
     },
     "execution_count": 17,
     "metadata": {},
     "output_type": "execute_result"
    }
   ],
   "source": [
    "### What is the proportion of Male and Female\n",
    "Data.Gender.value_counts(normalize=True) ## So we have about 72% male and 28% female. "
   ]
  },
  {
   "cell_type": "markdown",
   "metadata": {},
   "source": [
    "Question: How many customers are there by each City_Category. These questions will allow us to analyse if there are more number of customers belonging to one particular city or it is uniform and so on"
   ]
  },
  {
   "cell_type": "code",
   "execution_count": 18,
   "metadata": {},
   "outputs": [
    {
     "data": {
      "text/plain": [
       "City_Category\n",
       "A    1048\n",
       "B    1708\n",
       "C    3144\n",
       "Name: User_ID, dtype: int64"
      ]
     },
     "execution_count": 18,
     "metadata": {},
     "output_type": "execute_result"
    }
   ],
   "source": [
    "Data.groupby(['City_Category'])['User_ID'].count()"
   ]
  },
  {
   "cell_type": "markdown",
   "metadata": {},
   "source": [
    "- Missing Value and Extreme Value analysis\n",
    "    - Whenever we get the data, we need to check if the data has any missing or extreme values/ anomalies in the data which might affect our analysis"
   ]
  },
  {
   "cell_type": "code",
   "execution_count": 19,
   "metadata": {},
   "outputs": [
    {
     "data": {
      "text/plain": [
       "User_ID                       0\n",
       "Gender                        0\n",
       "Age                           3\n",
       "Occupation                    0\n",
       "City_Category                 0\n",
       "Stay_In_Current_City_Years    0\n",
       "Marital_Status                0\n",
       "dtype: int64"
      ]
     },
     "execution_count": 19,
     "metadata": {},
     "output_type": "execute_result"
    }
   ],
   "source": [
    "## To get the missing values in the data\n",
    "Data.isna().sum()"
   ]
  },
  {
   "cell_type": "code",
   "execution_count": 20,
   "metadata": {},
   "outputs": [
    {
     "name": "stdout",
     "output_type": "stream",
     "text": [
      "Data_ignored records are:  (5897, 7)\n",
      "Data_org records are:  (5900, 7)\n",
      "\n",
      "\n"
     ]
    }
   ],
   "source": [
    "## Method 1\n",
    "Data_ig=Data.dropna()\n",
    "print(\"Data_ignored records are: \",Data_ig.shape)\n",
    "print(\"Data_org records are: \",Data.shape)\n",
    "print(\"\\n\")"
   ]
  },
  {
   "cell_type": "markdown",
   "metadata": {},
   "source": [
    "- Imputing the missing values\n",
    "    - Imputing is basically a method of \"guessing\" the value in place of missing value. One method of imputation is central imputation where you replace the null value with the mean value of the column\n",
    "    - But before imputing, we need to check if there are any extreme values in the data because the extreme values can impact the mean values."
   ]
  },
  {
   "cell_type": "markdown",
   "metadata": {},
   "source": [
    "- Observe that there are some points above 100 and the max is about 129 (recall that we got the max value when we used the describe function on the data. These values could be anamolies. One of the approaches to tackle these extremevalues isto ignore the records before imputing the data. We can discuss other methods later"
   ]
  },
  {
   "cell_type": "code",
   "execution_count": 26,
   "metadata": {},
   "outputs": [
    {
     "name": "stdout",
     "output_type": "stream",
     "text": [
      "Dim of the processed data:  (5898, 7)\n",
      "Missing values in Data processed User_ID                       0\n",
      "Gender                        0\n",
      "Age                           3\n",
      "Occupation                    0\n",
      "City_Category                 0\n",
      "Stay_In_Current_City_Years    0\n",
      "Marital_Status                0\n",
      "dtype: int64\n"
     ]
    }
   ],
   "source": [
    "##Removing the extreme values\n",
    "Data1=Data[~Data.Age.isin(range(100,200))] # ~ before data is used to for exception.\n",
    "print(\"Dim of the processed data: \", Data1.shape)\n",
    "print(\"Missing values in Data processed\", Data1.isna().sum())"
   ]
  },
  {
   "cell_type": "markdown",
   "metadata": {},
   "source": [
    "- Age Group binning\n",
    "    - Age is numeric data. But the question we need to ask is does a 50 year old person behaviur would be different from 51 year old. Or a 21 year old behaviour be different from 22 year old. If not, then we need not want individual information on age but we need a collective information like what products are being purchased by a specific age group ( and not individual)\n",
    "    - In order to group the customers based on Age we create our custom bins like 0-17 years, 18-25 years, 26-35 years, 36-45 years, 46-50 years, 51-55 years and 55+."
   ]
  },
  {
   "cell_type": "code",
   "execution_count": null,
   "metadata": {},
   "outputs": [],
   "source": [
    "bins = [0, 17, 25, 35, 45, 50, 55,100]\n",
    "labels=['0-17','18-25','26-35','36-45','46-50','51-55','55+']\n",
    "\n",
    "Data1['Age_Group'] = pd.cut(Data1['Age'], bins=bins, labels=labels)"
   ]
  },
  {
   "cell_type": "markdown",
   "metadata": {},
   "source": [
    "### Question: Is there are particular age group that are more in number or is it uniform"
   ]
  },
  {
   "cell_type": "code",
   "execution_count": 28,
   "metadata": {},
   "outputs": [
    {
     "data": {
      "text/plain": [
       "Age_Group\n",
       "0-17      218\n",
       "18-25    1069\n",
       "26-35    2053\n",
       "36-45    1170\n",
       "46-50     532\n",
       "51-55     494\n",
       "55+       359\n",
       "Name: User_ID, dtype: int64"
      ]
     },
     "execution_count": 28,
     "metadata": {},
     "output_type": "execute_result"
    }
   ],
   "source": [
    "Data1.groupby(['Age_Group'])['User_ID'].count()"
   ]
  },
  {
   "cell_type": "markdown",
   "metadata": {},
   "source": [
    "#### Let's work on Transactions data\n",
    "Highest revenue generating customers "
   ]
  },
  {
   "cell_type": "code",
   "execution_count": 29,
   "metadata": {},
   "outputs": [
    {
     "data": {
      "text/plain": [
       "User_ID\n",
       "1001680    401302\n",
       "1004277    382836\n",
       "1001015    317057\n",
       "1001980    284272\n",
       "1003224    282424\n",
       "1005831    281230\n",
       "1003391    281033\n",
       "1001181    280374\n",
       "1003618    274230\n",
       "1000889    269989\n",
       "Name: Purchase, dtype: int64"
      ]
     },
     "execution_count": 29,
     "metadata": {},
     "output_type": "execute_result"
    }
   ],
   "source": [
    "Data=Trans.groupby(['User_ID'])['Purchase'].sum()\n",
    "### Looking at top 10 Customers\n",
    "Data.sort_values(ascending=False)[:10]"
   ]
  },
  {
   "cell_type": "markdown",
   "metadata": {},
   "source": [
    "##### Since there are so many products, instead of going with product_id, can we go with product category. For this, we may need to merge the data of POS with Prod so that we can map each product to their respective product category\n",
    "- Let's understand the merge"
   ]
  },
  {
   "cell_type": "code",
   "execution_count": 30,
   "metadata": {},
   "outputs": [],
   "source": [
    "### Merging the data frame\n",
    "Prod_Trans=pd.merge(Trans,Prod,on='Product_ID',how='left')"
   ]
  },
  {
   "cell_type": "code",
   "execution_count": 31,
   "metadata": {},
   "outputs": [
    {
     "data": {
      "text/plain": [
       "4     123311\n",
       "7      92941\n",
       "1      16842\n",
       "10      9681\n",
       "2       8167\n",
       "3       6400\n",
       "5       1360\n",
       "13      1069\n",
       "12      1047\n",
       "9        216\n",
       "6        216\n",
       "14       164\n",
       "8         81\n",
       "11        12\n",
       "Name: Product_Category, dtype: int64"
      ]
     },
     "execution_count": 31,
     "metadata": {},
     "output_type": "execute_result"
    }
   ],
   "source": [
    "### How many records for each product category\n",
    "Prod_Trans['Product_Category']=Prod_Trans['Product_Category'].astype('category')\n",
    "Prod_Trans['Product_Category'].value_counts()"
   ]
  },
  {
   "cell_type": "markdown",
   "metadata": {},
   "source": [
    "### Question: How many products are there in each product category"
   ]
  },
  {
   "cell_type": "code",
   "execution_count": 32,
   "metadata": {},
   "outputs": [
    {
     "data": {
      "text/plain": [
       "Product_Category\n",
       "7     1012\n",
       "4      947\n",
       "1      473\n",
       "10     231\n",
       "2      148\n",
       "5      105\n",
       "13      92\n",
       "3       89\n",
       "12      74\n",
       "6       61\n",
       "9       17\n",
       "14      10\n",
       "11       4\n",
       "8        1\n",
       "Name: Product_ID, dtype: int64"
      ]
     },
     "execution_count": 32,
     "metadata": {},
     "output_type": "execute_result"
    }
   ],
   "source": [
    "Prod_Trans.groupby(['Product_Category'])['Product_ID'].nunique().sort_values(ascending=False)"
   ]
  },
  {
   "cell_type": "markdown",
   "metadata": {},
   "source": [
    "- We observe that more number of products are available in product category 7"
   ]
  },
  {
   "cell_type": "markdown",
   "metadata": {},
   "source": [
    "#### Understanding anomalies in the data"
   ]
  },
  {
   "cell_type": "code",
   "execution_count": 33,
   "metadata": {},
   "outputs": [],
   "source": [
    "Prod_Trans['Z-score']=(Prod_Trans['Purchase']-Prod_Trans['Purchase'].mean())/Prod_Trans['Purchase'].std()"
   ]
  },
  {
   "cell_type": "code",
   "execution_count": 34,
   "metadata": {},
   "outputs": [
    {
     "name": "stdout",
     "output_type": "stream",
     "text": [
      "(261507, 6)\n",
      "12\n"
     ]
    },
    {
     "data": {
      "text/plain": [
       "Int64Index([261488, 261489, 261490, 261491, 261492, 261493, 261496, 261497,\n",
       "            261501, 261502, 261503, 261506],\n",
       "           dtype='int64')"
      ]
     },
     "execution_count": 34,
     "metadata": {},
     "output_type": "execute_result"
    }
   ],
   "source": [
    "print(Prod_Trans.shape)\n",
    "Out=Prod_Trans[(Prod_Trans['Z-score']>3)|(Prod_Trans['Z-score']<-3)].index\n",
    "print(len(Out))\n",
    "Out"
   ]
  },
  {
   "cell_type": "code",
   "execution_count": 42,
   "metadata": {},
   "outputs": [
    {
     "data": {
      "text/plain": [
       "0.00     502.0\n",
       "0.25     610.0\n",
       "0.50     741.0\n",
       "0.75     829.0\n",
       "1.00    3850.0\n",
       "Name: Purchase, dtype: float64"
      ]
     },
     "execution_count": 42,
     "metadata": {},
     "output_type": "execute_result"
    }
   ],
   "source": [
    "# Prod_Trans['Purchase'].quantile([0,0.25,0.5,0.75,1])"
   ]
  },
  {
   "cell_type": "code",
   "execution_count": 43,
   "metadata": {},
   "outputs": [
    {
     "data": {
      "text/html": [
       "<div>\n",
       "<style scoped>\n",
       "    .dataframe tbody tr th:only-of-type {\n",
       "        vertical-align: middle;\n",
       "    }\n",
       "\n",
       "    .dataframe tbody tr th {\n",
       "        vertical-align: top;\n",
       "    }\n",
       "\n",
       "    .dataframe thead th {\n",
       "        text-align: right;\n",
       "    }\n",
       "</style>\n",
       "<table border=\"1\" class=\"dataframe\">\n",
       "  <thead>\n",
       "    <tr style=\"text-align: right;\">\n",
       "      <th></th>\n",
       "      <th>Date</th>\n",
       "      <th>User_ID</th>\n",
       "      <th>Product_ID</th>\n",
       "      <th>Purchase</th>\n",
       "      <th>Product_Category</th>\n",
       "      <th>Z-score</th>\n",
       "    </tr>\n",
       "  </thead>\n",
       "  <tbody>\n",
       "    <tr>\n",
       "      <th>261488</th>\n",
       "      <td>16-8-2018</td>\n",
       "      <td>1007021</td>\n",
       "      <td>P1003112</td>\n",
       "      <td>2500</td>\n",
       "      <td>11</td>\n",
       "      <td>12.537388</td>\n",
       "    </tr>\n",
       "    <tr>\n",
       "      <th>261489</th>\n",
       "      <td>6-7-2018</td>\n",
       "      <td>1007021</td>\n",
       "      <td>P1005887</td>\n",
       "      <td>3850</td>\n",
       "      <td>11</td>\n",
       "      <td>22.151956</td>\n",
       "    </tr>\n",
       "    <tr>\n",
       "      <th>261490</th>\n",
       "      <td>13-8-2018</td>\n",
       "      <td>1007021</td>\n",
       "      <td>P1003381</td>\n",
       "      <td>1750</td>\n",
       "      <td>11</td>\n",
       "      <td>7.195962</td>\n",
       "    </tr>\n",
       "    <tr>\n",
       "      <th>261491</th>\n",
       "      <td>5-8-2018</td>\n",
       "      <td>1007028</td>\n",
       "      <td>P1003381</td>\n",
       "      <td>1750</td>\n",
       "      <td>11</td>\n",
       "      <td>7.195962</td>\n",
       "    </tr>\n",
       "    <tr>\n",
       "      <th>261492</th>\n",
       "      <td>11-7-2018</td>\n",
       "      <td>1007028</td>\n",
       "      <td>P1003112</td>\n",
       "      <td>2500</td>\n",
       "      <td>11</td>\n",
       "      <td>12.537388</td>\n",
       "    </tr>\n",
       "    <tr>\n",
       "      <th>261493</th>\n",
       "      <td>18-7-2018</td>\n",
       "      <td>1007028</td>\n",
       "      <td>P1005887</td>\n",
       "      <td>3850</td>\n",
       "      <td>11</td>\n",
       "      <td>22.151956</td>\n",
       "    </tr>\n",
       "    <tr>\n",
       "      <th>261496</th>\n",
       "      <td>12-9-2018</td>\n",
       "      <td>1007081</td>\n",
       "      <td>P1003221</td>\n",
       "      <td>3550</td>\n",
       "      <td>11</td>\n",
       "      <td>20.015386</td>\n",
       "    </tr>\n",
       "    <tr>\n",
       "      <th>261497</th>\n",
       "      <td>10-7-2018</td>\n",
       "      <td>1007091</td>\n",
       "      <td>P1003221</td>\n",
       "      <td>3550</td>\n",
       "      <td>11</td>\n",
       "      <td>20.015386</td>\n",
       "    </tr>\n",
       "    <tr>\n",
       "      <th>261501</th>\n",
       "      <td>20-9-2018</td>\n",
       "      <td>1007092</td>\n",
       "      <td>P1003221</td>\n",
       "      <td>3550</td>\n",
       "      <td>11</td>\n",
       "      <td>20.015386</td>\n",
       "    </tr>\n",
       "    <tr>\n",
       "      <th>261502</th>\n",
       "      <td>12-9-2018</td>\n",
       "      <td>1007092</td>\n",
       "      <td>P1003112</td>\n",
       "      <td>2500</td>\n",
       "      <td>11</td>\n",
       "      <td>12.537388</td>\n",
       "    </tr>\n",
       "    <tr>\n",
       "      <th>261503</th>\n",
       "      <td>7-9-2018</td>\n",
       "      <td>1007095</td>\n",
       "      <td>P1003381</td>\n",
       "      <td>1750</td>\n",
       "      <td>11</td>\n",
       "      <td>7.195962</td>\n",
       "    </tr>\n",
       "    <tr>\n",
       "      <th>261506</th>\n",
       "      <td>24-8-2018</td>\n",
       "      <td>1007099</td>\n",
       "      <td>P1003221</td>\n",
       "      <td>3550</td>\n",
       "      <td>11</td>\n",
       "      <td>20.015386</td>\n",
       "    </tr>\n",
       "  </tbody>\n",
       "</table>\n",
       "</div>"
      ],
      "text/plain": [
       "             Date  User_ID Product_ID  Purchase Product_Category    Z-score\n",
       "261488  16-8-2018  1007021   P1003112      2500               11  12.537388\n",
       "261489   6-7-2018  1007021   P1005887      3850               11  22.151956\n",
       "261490  13-8-2018  1007021   P1003381      1750               11   7.195962\n",
       "261491   5-8-2018  1007028   P1003381      1750               11   7.195962\n",
       "261492  11-7-2018  1007028   P1003112      2500               11  12.537388\n",
       "261493  18-7-2018  1007028   P1005887      3850               11  22.151956\n",
       "261496  12-9-2018  1007081   P1003221      3550               11  20.015386\n",
       "261497  10-7-2018  1007091   P1003221      3550               11  20.015386\n",
       "261501  20-9-2018  1007092   P1003221      3550               11  20.015386\n",
       "261502  12-9-2018  1007092   P1003112      2500               11  12.537388\n",
       "261503   7-9-2018  1007095   P1003381      1750               11   7.195962\n",
       "261506  24-8-2018  1007099   P1003221      3550               11  20.015386"
      ]
     },
     "execution_count": 43,
     "metadata": {},
     "output_type": "execute_result"
    }
   ],
   "source": [
    "Prod_Trans.iloc[Out]"
   ]
  },
  {
   "cell_type": "markdown",
   "metadata": {},
   "source": [
    "- Observe that all the records that have very high value of purchase belong to item category 11\n",
    "- With this observation, what can be done? Can we include category 11 with all other categories and perform the analysis or since they are very different (in terms of revenue) should they be analysed separately?"
   ]
  },
  {
   "cell_type": "markdown",
   "metadata": {},
   "source": [
    "#### Understanding data with respect to time"
   ]
  },
  {
   "cell_type": "code",
   "execution_count": 44,
   "metadata": {},
   "outputs": [
    {
     "data": {
      "text/html": [
       "<div>\n",
       "<style scoped>\n",
       "    .dataframe tbody tr th:only-of-type {\n",
       "        vertical-align: middle;\n",
       "    }\n",
       "\n",
       "    .dataframe tbody tr th {\n",
       "        vertical-align: top;\n",
       "    }\n",
       "\n",
       "    .dataframe thead th {\n",
       "        text-align: right;\n",
       "    }\n",
       "</style>\n",
       "<table border=\"1\" class=\"dataframe\">\n",
       "  <thead>\n",
       "    <tr style=\"text-align: right;\">\n",
       "      <th></th>\n",
       "      <th>Date</th>\n",
       "      <th>User_ID</th>\n",
       "      <th>Product_ID</th>\n",
       "      <th>Purchase</th>\n",
       "      <th>Product_Category</th>\n",
       "      <th>Z-score</th>\n",
       "    </tr>\n",
       "  </thead>\n",
       "  <tbody>\n",
       "    <tr>\n",
       "      <th>0</th>\n",
       "      <td>28-9-2018</td>\n",
       "      <td>1000001</td>\n",
       "      <td>P00069042</td>\n",
       "      <td>837</td>\n",
       "      <td>3</td>\n",
       "      <td>0.693665</td>\n",
       "    </tr>\n",
       "    <tr>\n",
       "      <th>1</th>\n",
       "      <td>29-7-2018</td>\n",
       "      <td>1000001</td>\n",
       "      <td>P00117942</td>\n",
       "      <td>884</td>\n",
       "      <td>4</td>\n",
       "      <td>1.028394</td>\n",
       "    </tr>\n",
       "    <tr>\n",
       "      <th>2</th>\n",
       "      <td>28-7-2018</td>\n",
       "      <td>1000001</td>\n",
       "      <td>P00258742</td>\n",
       "      <td>691</td>\n",
       "      <td>4</td>\n",
       "      <td>-0.346133</td>\n",
       "    </tr>\n",
       "    <tr>\n",
       "      <th>3</th>\n",
       "      <td>27-7-2018</td>\n",
       "      <td>1000001</td>\n",
       "      <td>P00142242</td>\n",
       "      <td>788</td>\n",
       "      <td>7</td>\n",
       "      <td>0.344692</td>\n",
       "    </tr>\n",
       "    <tr>\n",
       "      <th>4</th>\n",
       "      <td>29-7-2018</td>\n",
       "      <td>1000001</td>\n",
       "      <td>P00297042</td>\n",
       "      <td>784</td>\n",
       "      <td>7</td>\n",
       "      <td>0.316204</td>\n",
       "    </tr>\n",
       "  </tbody>\n",
       "</table>\n",
       "</div>"
      ],
      "text/plain": [
       "        Date  User_ID Product_ID  Purchase Product_Category   Z-score\n",
       "0  28-9-2018  1000001  P00069042       837                3  0.693665\n",
       "1  29-7-2018  1000001  P00117942       884                4  1.028394\n",
       "2  28-7-2018  1000001  P00258742       691                4 -0.346133\n",
       "3  27-7-2018  1000001  P00142242       788                7  0.344692\n",
       "4  29-7-2018  1000001  P00297042       784                7  0.316204"
      ]
     },
     "execution_count": 44,
     "metadata": {},
     "output_type": "execute_result"
    }
   ],
   "source": [
    "Prod_Trans.head(5)"
   ]
  },
  {
   "cell_type": "code",
   "execution_count": 45,
   "metadata": {},
   "outputs": [
    {
     "data": {
      "text/plain": [
       "Date                datetime64[ns]\n",
       "User_ID                      int64\n",
       "Product_ID                  object\n",
       "Purchase                     int64\n",
       "Product_Category          category\n",
       "Z-score                    float64\n",
       "dtype: object"
      ]
     },
     "execution_count": 45,
     "metadata": {},
     "output_type": "execute_result"
    }
   ],
   "source": [
    "### Coversion of date to date time object\n",
    "Prod_Trans['Date']=pd.to_datetime(Prod_Trans['Date'],format=\"%d-%m-%Y\")\n",
    "Prod_Trans.dtypes"
   ]
  },
  {
   "cell_type": "code",
   "execution_count": 46,
   "metadata": {},
   "outputs": [
    {
     "data": {
      "text/html": [
       "<div>\n",
       "<style scoped>\n",
       "    .dataframe tbody tr th:only-of-type {\n",
       "        vertical-align: middle;\n",
       "    }\n",
       "\n",
       "    .dataframe tbody tr th {\n",
       "        vertical-align: top;\n",
       "    }\n",
       "\n",
       "    .dataframe thead th {\n",
       "        text-align: right;\n",
       "    }\n",
       "</style>\n",
       "<table border=\"1\" class=\"dataframe\">\n",
       "  <thead>\n",
       "    <tr style=\"text-align: right;\">\n",
       "      <th></th>\n",
       "      <th>Date</th>\n",
       "      <th>User_ID</th>\n",
       "      <th>Product_ID</th>\n",
       "      <th>Purchase</th>\n",
       "      <th>Product_Category</th>\n",
       "      <th>Z-score</th>\n",
       "      <th>Week</th>\n",
       "      <th>Month</th>\n",
       "    </tr>\n",
       "  </thead>\n",
       "  <tbody>\n",
       "    <tr>\n",
       "      <th>0</th>\n",
       "      <td>2018-09-28</td>\n",
       "      <td>1000001</td>\n",
       "      <td>P00069042</td>\n",
       "      <td>837</td>\n",
       "      <td>3</td>\n",
       "      <td>0.693665</td>\n",
       "      <td>39</td>\n",
       "      <td>9</td>\n",
       "    </tr>\n",
       "    <tr>\n",
       "      <th>1</th>\n",
       "      <td>2018-07-29</td>\n",
       "      <td>1000001</td>\n",
       "      <td>P00117942</td>\n",
       "      <td>884</td>\n",
       "      <td>4</td>\n",
       "      <td>1.028394</td>\n",
       "      <td>30</td>\n",
       "      <td>7</td>\n",
       "    </tr>\n",
       "    <tr>\n",
       "      <th>2</th>\n",
       "      <td>2018-07-28</td>\n",
       "      <td>1000001</td>\n",
       "      <td>P00258742</td>\n",
       "      <td>691</td>\n",
       "      <td>4</td>\n",
       "      <td>-0.346133</td>\n",
       "      <td>30</td>\n",
       "      <td>7</td>\n",
       "    </tr>\n",
       "    <tr>\n",
       "      <th>3</th>\n",
       "      <td>2018-07-27</td>\n",
       "      <td>1000001</td>\n",
       "      <td>P00142242</td>\n",
       "      <td>788</td>\n",
       "      <td>7</td>\n",
       "      <td>0.344692</td>\n",
       "      <td>30</td>\n",
       "      <td>7</td>\n",
       "    </tr>\n",
       "    <tr>\n",
       "      <th>4</th>\n",
       "      <td>2018-07-29</td>\n",
       "      <td>1000001</td>\n",
       "      <td>P00297042</td>\n",
       "      <td>784</td>\n",
       "      <td>7</td>\n",
       "      <td>0.316204</td>\n",
       "      <td>30</td>\n",
       "      <td>7</td>\n",
       "    </tr>\n",
       "  </tbody>\n",
       "</table>\n",
       "</div>"
      ],
      "text/plain": [
       "        Date  User_ID Product_ID  Purchase Product_Category   Z-score  Week  \\\n",
       "0 2018-09-28  1000001  P00069042       837                3  0.693665    39   \n",
       "1 2018-07-29  1000001  P00117942       884                4  1.028394    30   \n",
       "2 2018-07-28  1000001  P00258742       691                4 -0.346133    30   \n",
       "3 2018-07-27  1000001  P00142242       788                7  0.344692    30   \n",
       "4 2018-07-29  1000001  P00297042       784                7  0.316204    30   \n",
       "\n",
       "   Month  \n",
       "0      9  \n",
       "1      7  \n",
       "2      7  \n",
       "3      7  \n",
       "4      7  "
      ]
     },
     "execution_count": 46,
     "metadata": {},
     "output_type": "execute_result"
    }
   ],
   "source": [
    "##Getting the week and months from the data\n",
    "Prod_Trans['Week']=Prod_Trans['Date'].dt.week\n",
    "Prod_Trans['Month']=Prod_Trans['Date'].dt.month\n",
    "Prod_Trans.head(5)"
   ]
  },
  {
   "cell_type": "markdown",
   "metadata": {},
   "source": [
    "- Which month have highest number of sales"
   ]
  },
  {
   "cell_type": "code",
   "execution_count": 47,
   "metadata": {},
   "outputs": [
    {
     "data": {
      "text/plain": [
       "Month\n",
       "7    64918618\n",
       "9    64283305\n",
       "8    64208962\n",
       "Name: Purchase, dtype: int64"
      ]
     },
     "execution_count": 47,
     "metadata": {},
     "output_type": "execute_result"
    }
   ],
   "source": [
    "Sales_by_month=Prod_Trans.groupby(['Month'])['Purchase'].sum()\n",
    "Sales_by_month.sort_values(ascending=False)[:10]"
   ]
  },
  {
   "cell_type": "markdown",
   "metadata": {},
   "source": [
    "- We can also check weekly sales "
   ]
  },
  {
   "cell_type": "markdown",
   "metadata": {},
   "source": [
    "#### Aggregating to the customer level\n",
    "- We have observed that, there are 5900 unique customers with over 250k transactions in one quarter of 2018. If we want to profile the customers based on which one can design the approaches to improve the business, we need more information\n",
    "    - This can be obtained in two ways a) from the client b) derived- based on the information available, can we derive some more attriutes that makes more sense to use.\n",
    "    - In this case, for example, we can derive, how many products purchased, what is average spending (per item or per month), is the customer repeatedly buying the same product or is he exploring different product catevories and products and so on. Let's derive some of the attributes"
   ]
  },
  {
   "cell_type": "code",
   "execution_count": 28,
   "metadata": {},
   "outputs": [
    {
     "name": "stderr",
     "output_type": "stream",
     "text": [
      "C:\\Users\\Somagiri\\Anaconda3\\lib\\site-packages\\pandas\\core\\groupby\\generic.py:1315: FutureWarning: using a dict with renaming is deprecated and will be removed in a future version\n",
      "  return super(DataFrameGroupBy, self).aggregate(arg, *args, **kwargs)\n"
     ]
    }
   ],
   "source": [
    "User_profile=Prod_Trans.groupby(['User_ID']).agg(\n",
    "{'Product_ID':{\n",
    "    'Number of Items': 'count',\n",
    "    'Unique Items':'nunique'\n",
    "},\n",
    " 'Purchase':{\n",
    "     'Total Purchase':'sum',\n",
    "     'Average per Transaction':'mean'\n",
    " },\n",
    " 'Product_Category':{\n",
    "     'Number of categories':'nunique'\n",
    " }\n",
    "}\n",
    ")"
   ]
  },
  {
   "cell_type": "code",
   "execution_count": 29,
   "metadata": {},
   "outputs": [
    {
     "data": {
      "text/plain": [
       "MultiIndex(levels=[['Product_ID', 'Purchase', 'Product_Category'], ['Average per Transaction', 'Number of Items', 'Number of categories', 'Total Purchase', 'Unique Items']],\n",
       "           codes=[[0, 0, 1, 1, 2], [1, 4, 3, 0, 2]])"
      ]
     },
     "execution_count": 29,
     "metadata": {},
     "output_type": "execute_result"
    }
   ],
   "source": [
    "User_profile.columns"
   ]
  },
  {
   "cell_type": "code",
   "execution_count": 30,
   "metadata": {},
   "outputs": [
    {
     "data": {
      "text/html": [
       "<div>\n",
       "<style scoped>\n",
       "    .dataframe tbody tr th:only-of-type {\n",
       "        vertical-align: middle;\n",
       "    }\n",
       "\n",
       "    .dataframe tbody tr th {\n",
       "        vertical-align: top;\n",
       "    }\n",
       "\n",
       "    .dataframe thead th {\n",
       "        text-align: right;\n",
       "    }\n",
       "</style>\n",
       "<table border=\"1\" class=\"dataframe\">\n",
       "  <thead>\n",
       "    <tr style=\"text-align: right;\">\n",
       "      <th></th>\n",
       "      <th>(Product_ID, Number of Items)</th>\n",
       "      <th>(Product_ID, Unique Items)</th>\n",
       "      <th>(Purchase, Total Purchase)</th>\n",
       "      <th>(Purchase, Average per Transaction)</th>\n",
       "      <th>(Product_Category, Number of categories)</th>\n",
       "    </tr>\n",
       "    <tr>\n",
       "      <th>User_ID</th>\n",
       "      <th></th>\n",
       "      <th></th>\n",
       "      <th></th>\n",
       "      <th></th>\n",
       "      <th></th>\n",
       "    </tr>\n",
       "  </thead>\n",
       "  <tbody>\n",
       "    <tr>\n",
       "      <th>1000001</th>\n",
       "      <td>12</td>\n",
       "      <td>12</td>\n",
       "      <td>9979</td>\n",
       "      <td>831.583333</td>\n",
       "      <td>3</td>\n",
       "    </tr>\n",
       "    <tr>\n",
       "      <th>1000002</th>\n",
       "      <td>37</td>\n",
       "      <td>37</td>\n",
       "      <td>28416</td>\n",
       "      <td>768.000000</td>\n",
       "      <td>4</td>\n",
       "    </tr>\n",
       "    <tr>\n",
       "      <th>1000003</th>\n",
       "      <td>10</td>\n",
       "      <td>10</td>\n",
       "      <td>7329</td>\n",
       "      <td>732.900000</td>\n",
       "      <td>3</td>\n",
       "    </tr>\n",
       "    <tr>\n",
       "      <th>1000005</th>\n",
       "      <td>55</td>\n",
       "      <td>55</td>\n",
       "      <td>38641</td>\n",
       "      <td>702.563636</td>\n",
       "      <td>7</td>\n",
       "    </tr>\n",
       "    <tr>\n",
       "      <th>1000006</th>\n",
       "      <td>19</td>\n",
       "      <td>19</td>\n",
       "      <td>14162</td>\n",
       "      <td>745.368421</td>\n",
       "      <td>4</td>\n",
       "    </tr>\n",
       "  </tbody>\n",
       "</table>\n",
       "</div>"
      ],
      "text/plain": [
       "         (Product_ID, Number of Items)  (Product_ID, Unique Items)  \\\n",
       "User_ID                                                              \n",
       "1000001                             12                          12   \n",
       "1000002                             37                          37   \n",
       "1000003                             10                          10   \n",
       "1000005                             55                          55   \n",
       "1000006                             19                          19   \n",
       "\n",
       "         (Purchase, Total Purchase)  (Purchase, Average per Transaction)  \\\n",
       "User_ID                                                                    \n",
       "1000001                        9979                           831.583333   \n",
       "1000002                       28416                           768.000000   \n",
       "1000003                        7329                           732.900000   \n",
       "1000005                       38641                           702.563636   \n",
       "1000006                       14162                           745.368421   \n",
       "\n",
       "         (Product_Category, Number of categories)  \n",
       "User_ID                                            \n",
       "1000001                                         3  \n",
       "1000002                                         4  \n",
       "1000003                                         3  \n",
       "1000005                                         7  \n",
       "1000006                                         4  "
      ]
     },
     "execution_count": 30,
     "metadata": {},
     "output_type": "execute_result"
    }
   ],
   "source": [
    "### Removing the multi level index on columnsto create a regular dataframe\n",
    "User_profile.columns = User_profile.columns.to_flat_index()\n",
    "User_profile.head(5)"
   ]
  },
  {
   "cell_type": "code",
   "execution_count": 31,
   "metadata": {},
   "outputs": [
    {
     "data": {
      "text/html": [
       "<div>\n",
       "<style scoped>\n",
       "    .dataframe tbody tr th:only-of-type {\n",
       "        vertical-align: middle;\n",
       "    }\n",
       "\n",
       "    .dataframe tbody tr th {\n",
       "        vertical-align: top;\n",
       "    }\n",
       "\n",
       "    .dataframe thead th {\n",
       "        text-align: right;\n",
       "    }\n",
       "</style>\n",
       "<table border=\"1\" class=\"dataframe\">\n",
       "  <thead>\n",
       "    <tr style=\"text-align: right;\">\n",
       "      <th></th>\n",
       "      <th>No_of_Trans</th>\n",
       "      <th>Unique_Products</th>\n",
       "      <th>Total_Amt</th>\n",
       "      <th>Avg_Amt_per_Trans</th>\n",
       "      <th>No_of_unique_Categories</th>\n",
       "    </tr>\n",
       "    <tr>\n",
       "      <th>User_ID</th>\n",
       "      <th></th>\n",
       "      <th></th>\n",
       "      <th></th>\n",
       "      <th></th>\n",
       "      <th></th>\n",
       "    </tr>\n",
       "  </thead>\n",
       "  <tbody>\n",
       "    <tr>\n",
       "      <th>1000001</th>\n",
       "      <td>12</td>\n",
       "      <td>12</td>\n",
       "      <td>9979</td>\n",
       "      <td>831.583333</td>\n",
       "      <td>3</td>\n",
       "    </tr>\n",
       "    <tr>\n",
       "      <th>1000002</th>\n",
       "      <td>37</td>\n",
       "      <td>37</td>\n",
       "      <td>28416</td>\n",
       "      <td>768.000000</td>\n",
       "      <td>4</td>\n",
       "    </tr>\n",
       "    <tr>\n",
       "      <th>1000003</th>\n",
       "      <td>10</td>\n",
       "      <td>10</td>\n",
       "      <td>7329</td>\n",
       "      <td>732.900000</td>\n",
       "      <td>3</td>\n",
       "    </tr>\n",
       "    <tr>\n",
       "      <th>1000005</th>\n",
       "      <td>55</td>\n",
       "      <td>55</td>\n",
       "      <td>38641</td>\n",
       "      <td>702.563636</td>\n",
       "      <td>7</td>\n",
       "    </tr>\n",
       "    <tr>\n",
       "      <th>1000006</th>\n",
       "      <td>19</td>\n",
       "      <td>19</td>\n",
       "      <td>14162</td>\n",
       "      <td>745.368421</td>\n",
       "      <td>4</td>\n",
       "    </tr>\n",
       "  </tbody>\n",
       "</table>\n",
       "</div>"
      ],
      "text/plain": [
       "         No_of_Trans  Unique_Products  Total_Amt  Avg_Amt_per_Trans  \\\n",
       "User_ID                                                               \n",
       "1000001           12               12       9979         831.583333   \n",
       "1000002           37               37      28416         768.000000   \n",
       "1000003           10               10       7329         732.900000   \n",
       "1000005           55               55      38641         702.563636   \n",
       "1000006           19               19      14162         745.368421   \n",
       "\n",
       "         No_of_unique_Categories  \n",
       "User_ID                           \n",
       "1000001                        3  \n",
       "1000002                        4  \n",
       "1000003                        3  \n",
       "1000005                        7  \n",
       "1000006                        4  "
      ]
     },
     "execution_count": 31,
     "metadata": {},
     "output_type": "execute_result"
    }
   ],
   "source": [
    "### Modifying the column names\n",
    "User_profile.columns=['No_of_Trans','Unique_Products','Total_Amt','Avg_Amt_per_Trans','No_of_unique_Categories']\n",
    "User_profile.head(5)"
   ]
  },
  {
   "cell_type": "markdown",
   "metadata": {},
   "source": [
    "Deriving new features"
   ]
  },
  {
   "cell_type": "code",
   "execution_count": 32,
   "metadata": {},
   "outputs": [],
   "source": [
    "### Deriving other attributes\n",
    "User_profile['Avg_Trans_per_Category']=User_profile['Total_Amt']/User_profile['No_of_unique_Categories']"
   ]
  },
  {
   "cell_type": "code",
   "execution_count": 33,
   "metadata": {},
   "outputs": [
    {
     "data": {
      "text/plain": [
       "User_ID  Product_Category\n",
       "1000001  3                    3\n",
       "         4                    2\n",
       "         7                    7\n",
       "1000002  1                    4\n",
       "         4                   12\n",
       "         5                    1\n",
       "         7                   20\n",
       "1000003  1                    1\n",
       "         4                    8\n",
       "         7                    1\n",
       "Name: Product_ID, dtype: int64"
      ]
     },
     "execution_count": 33,
     "metadata": {},
     "output_type": "execute_result"
    }
   ],
   "source": [
    "### To identify if the person has a favorite product category or explore all categories\n",
    "User_profile1=Prod_Trans.groupby(['User_ID','Product_Category'])['Product_ID'].count()\n",
    "\n",
    "User_profile1.head(10)"
   ]
  },
  {
   "cell_type": "code",
   "execution_count": 34,
   "metadata": {},
   "outputs": [
    {
     "name": "stdout",
     "output_type": "stream",
     "text": [
      "<class 'pandas.core.frame.DataFrame'>\n"
     ]
    },
    {
     "data": {
      "text/html": [
       "<div>\n",
       "<style scoped>\n",
       "    .dataframe tbody tr th:only-of-type {\n",
       "        vertical-align: middle;\n",
       "    }\n",
       "\n",
       "    .dataframe tbody tr th {\n",
       "        vertical-align: top;\n",
       "    }\n",
       "\n",
       "    .dataframe thead th {\n",
       "        text-align: right;\n",
       "    }\n",
       "</style>\n",
       "<table border=\"1\" class=\"dataframe\">\n",
       "  <thead>\n",
       "    <tr style=\"text-align: right;\">\n",
       "      <th></th>\n",
       "      <th>User_ID</th>\n",
       "      <th>Product_Category</th>\n",
       "      <th>Product_ID</th>\n",
       "    </tr>\n",
       "  </thead>\n",
       "  <tbody>\n",
       "    <tr>\n",
       "      <th>0</th>\n",
       "      <td>1000001</td>\n",
       "      <td>3</td>\n",
       "      <td>3</td>\n",
       "    </tr>\n",
       "    <tr>\n",
       "      <th>1</th>\n",
       "      <td>1000001</td>\n",
       "      <td>4</td>\n",
       "      <td>2</td>\n",
       "    </tr>\n",
       "    <tr>\n",
       "      <th>2</th>\n",
       "      <td>1000001</td>\n",
       "      <td>7</td>\n",
       "      <td>7</td>\n",
       "    </tr>\n",
       "    <tr>\n",
       "      <th>3</th>\n",
       "      <td>1000002</td>\n",
       "      <td>1</td>\n",
       "      <td>4</td>\n",
       "    </tr>\n",
       "    <tr>\n",
       "      <th>4</th>\n",
       "      <td>1000002</td>\n",
       "      <td>4</td>\n",
       "      <td>12</td>\n",
       "    </tr>\n",
       "  </tbody>\n",
       "</table>\n",
       "</div>"
      ],
      "text/plain": [
       "   User_ID Product_Category  Product_ID\n",
       "0  1000001                3           3\n",
       "1  1000001                4           2\n",
       "2  1000001                7           7\n",
       "3  1000002                1           4\n",
       "4  1000002                4          12"
      ]
     },
     "execution_count": 34,
     "metadata": {},
     "output_type": "execute_result"
    }
   ],
   "source": [
    "User_profile1=User_profile1.reset_index()\n",
    "print(type(User_profile1))\n",
    "User_profile1.head(5)"
   ]
  },
  {
   "cell_type": "code",
   "execution_count": 35,
   "metadata": {},
   "outputs": [],
   "source": [
    "### Casting the data so that we know how many product categories user brought\n",
    "User_pivot=User_profile1.pivot(index='User_ID',columns='Product_Category',values=\"Product_ID\")\n",
    "User_pivot=User_pivot.fillna(0)"
   ]
  },
  {
   "cell_type": "code",
   "execution_count": 36,
   "metadata": {},
   "outputs": [
    {
     "data": {
      "text/plain": [
       "Index(['1', '2', '3', '4', '5', '6', '7', '8', '9', '10', '11', '12', '13',\n",
       "       '14'],\n",
       "      dtype='object', name='Product_Category')"
      ]
     },
     "execution_count": 36,
     "metadata": {},
     "output_type": "execute_result"
    }
   ],
   "source": [
    "### To make manipulations on data, we shall convert columns of categorical index to string type\n",
    "User_pivot.columns=User_pivot.columns.astype('str')\n",
    "User_pivot.reset_index()\n",
    "User_pivot.columns"
   ]
  },
  {
   "cell_type": "code",
   "execution_count": 37,
   "metadata": {},
   "outputs": [],
   "source": [
    "### Writing a custom function to identify if user has a favourite product category\n",
    "def favorite(lst):\n",
    "    f=np.max(lst)/np.sum(lst)\n",
    "    return(f)\n",
    "User_pivot['val'] = pd.DataFrame(User_pivot.apply(favorite, axis=1))"
   ]
  },
  {
   "cell_type": "code",
   "execution_count": 38,
   "metadata": {},
   "outputs": [
    {
     "data": {
      "text/html": [
       "<div>\n",
       "<style scoped>\n",
       "    .dataframe tbody tr th:only-of-type {\n",
       "        vertical-align: middle;\n",
       "    }\n",
       "\n",
       "    .dataframe tbody tr th {\n",
       "        vertical-align: top;\n",
       "    }\n",
       "\n",
       "    .dataframe thead th {\n",
       "        text-align: right;\n",
       "    }\n",
       "</style>\n",
       "<table border=\"1\" class=\"dataframe\">\n",
       "  <thead>\n",
       "    <tr style=\"text-align: right;\">\n",
       "      <th>Product_Category</th>\n",
       "      <th>1</th>\n",
       "      <th>2</th>\n",
       "      <th>3</th>\n",
       "      <th>4</th>\n",
       "      <th>5</th>\n",
       "      <th>6</th>\n",
       "      <th>7</th>\n",
       "      <th>8</th>\n",
       "      <th>9</th>\n",
       "      <th>10</th>\n",
       "      <th>11</th>\n",
       "      <th>12</th>\n",
       "      <th>13</th>\n",
       "      <th>14</th>\n",
       "      <th>val</th>\n",
       "      <th>Fav</th>\n",
       "    </tr>\n",
       "    <tr>\n",
       "      <th>User_ID</th>\n",
       "      <th></th>\n",
       "      <th></th>\n",
       "      <th></th>\n",
       "      <th></th>\n",
       "      <th></th>\n",
       "      <th></th>\n",
       "      <th></th>\n",
       "      <th></th>\n",
       "      <th></th>\n",
       "      <th></th>\n",
       "      <th></th>\n",
       "      <th></th>\n",
       "      <th></th>\n",
       "      <th></th>\n",
       "      <th></th>\n",
       "      <th></th>\n",
       "    </tr>\n",
       "  </thead>\n",
       "  <tbody>\n",
       "    <tr>\n",
       "      <th>1000001</th>\n",
       "      <td>0.0</td>\n",
       "      <td>0.0</td>\n",
       "      <td>3.0</td>\n",
       "      <td>2.0</td>\n",
       "      <td>0.0</td>\n",
       "      <td>0.0</td>\n",
       "      <td>7.0</td>\n",
       "      <td>0.0</td>\n",
       "      <td>0.0</td>\n",
       "      <td>0.0</td>\n",
       "      <td>0.0</td>\n",
       "      <td>0.0</td>\n",
       "      <td>0.0</td>\n",
       "      <td>0.0</td>\n",
       "      <td>0.583333</td>\n",
       "      <td>0.0</td>\n",
       "    </tr>\n",
       "    <tr>\n",
       "      <th>1000002</th>\n",
       "      <td>4.0</td>\n",
       "      <td>0.0</td>\n",
       "      <td>0.0</td>\n",
       "      <td>12.0</td>\n",
       "      <td>1.0</td>\n",
       "      <td>0.0</td>\n",
       "      <td>20.0</td>\n",
       "      <td>0.0</td>\n",
       "      <td>0.0</td>\n",
       "      <td>0.0</td>\n",
       "      <td>0.0</td>\n",
       "      <td>0.0</td>\n",
       "      <td>0.0</td>\n",
       "      <td>0.0</td>\n",
       "      <td>0.540541</td>\n",
       "      <td>0.0</td>\n",
       "    </tr>\n",
       "    <tr>\n",
       "      <th>1000003</th>\n",
       "      <td>1.0</td>\n",
       "      <td>0.0</td>\n",
       "      <td>0.0</td>\n",
       "      <td>8.0</td>\n",
       "      <td>0.0</td>\n",
       "      <td>0.0</td>\n",
       "      <td>1.0</td>\n",
       "      <td>0.0</td>\n",
       "      <td>0.0</td>\n",
       "      <td>0.0</td>\n",
       "      <td>0.0</td>\n",
       "      <td>0.0</td>\n",
       "      <td>0.0</td>\n",
       "      <td>0.0</td>\n",
       "      <td>0.800000</td>\n",
       "      <td>1.0</td>\n",
       "    </tr>\n",
       "  </tbody>\n",
       "</table>\n",
       "</div>"
      ],
      "text/plain": [
       "Product_Category    1    2    3     4    5    6     7    8    9   10   11  \\\n",
       "User_ID                                                                     \n",
       "1000001           0.0  0.0  3.0   2.0  0.0  0.0   7.0  0.0  0.0  0.0  0.0   \n",
       "1000002           4.0  0.0  0.0  12.0  1.0  0.0  20.0  0.0  0.0  0.0  0.0   \n",
       "1000003           1.0  0.0  0.0   8.0  0.0  0.0   1.0  0.0  0.0  0.0  0.0   \n",
       "\n",
       "Product_Category   12   13   14       val  Fav  \n",
       "User_ID                                         \n",
       "1000001           0.0  0.0  0.0  0.583333  0.0  \n",
       "1000002           0.0  0.0  0.0  0.540541  0.0  \n",
       "1000003           0.0  0.0  0.0  0.800000  1.0  "
      ]
     },
     "execution_count": 38,
     "metadata": {},
     "output_type": "execute_result"
    }
   ],
   "source": [
    "User_pivot.loc[User_pivot.val >= 0.6, 'Fav'] = 1 \n",
    "User_pivot.loc[User_pivot.val<0.6, 'Fav'] = 0 \n",
    "User_pivot.head(3)"
   ]
  },
  {
   "cell_type": "code",
   "execution_count": 39,
   "metadata": {},
   "outputs": [
    {
     "data": {
      "text/html": [
       "<div>\n",
       "<style scoped>\n",
       "    .dataframe tbody tr th:only-of-type {\n",
       "        vertical-align: middle;\n",
       "    }\n",
       "\n",
       "    .dataframe tbody tr th {\n",
       "        vertical-align: top;\n",
       "    }\n",
       "\n",
       "    .dataframe thead th {\n",
       "        text-align: right;\n",
       "    }\n",
       "</style>\n",
       "<table border=\"1\" class=\"dataframe\">\n",
       "  <thead>\n",
       "    <tr style=\"text-align: right;\">\n",
       "      <th></th>\n",
       "      <th>No_of_Trans</th>\n",
       "      <th>Unique_Products</th>\n",
       "      <th>Total_Amt</th>\n",
       "      <th>Avg_Amt_per_Trans</th>\n",
       "      <th>No_of_unique_Categories</th>\n",
       "      <th>Avg_Trans_per_Category</th>\n",
       "      <th>Fav</th>\n",
       "    </tr>\n",
       "    <tr>\n",
       "      <th>User_ID</th>\n",
       "      <th></th>\n",
       "      <th></th>\n",
       "      <th></th>\n",
       "      <th></th>\n",
       "      <th></th>\n",
       "      <th></th>\n",
       "      <th></th>\n",
       "    </tr>\n",
       "  </thead>\n",
       "  <tbody>\n",
       "    <tr>\n",
       "      <th>1000001</th>\n",
       "      <td>12</td>\n",
       "      <td>12</td>\n",
       "      <td>9979</td>\n",
       "      <td>831.583333</td>\n",
       "      <td>3</td>\n",
       "      <td>3326.333333</td>\n",
       "      <td>0.0</td>\n",
       "    </tr>\n",
       "    <tr>\n",
       "      <th>1000002</th>\n",
       "      <td>37</td>\n",
       "      <td>37</td>\n",
       "      <td>28416</td>\n",
       "      <td>768.000000</td>\n",
       "      <td>4</td>\n",
       "      <td>7104.000000</td>\n",
       "      <td>0.0</td>\n",
       "    </tr>\n",
       "    <tr>\n",
       "      <th>1000003</th>\n",
       "      <td>10</td>\n",
       "      <td>10</td>\n",
       "      <td>7329</td>\n",
       "      <td>732.900000</td>\n",
       "      <td>3</td>\n",
       "      <td>2443.000000</td>\n",
       "      <td>1.0</td>\n",
       "    </tr>\n",
       "    <tr>\n",
       "      <th>1000005</th>\n",
       "      <td>55</td>\n",
       "      <td>55</td>\n",
       "      <td>38641</td>\n",
       "      <td>702.563636</td>\n",
       "      <td>7</td>\n",
       "      <td>5520.142857</td>\n",
       "      <td>0.0</td>\n",
       "    </tr>\n",
       "    <tr>\n",
       "      <th>1000006</th>\n",
       "      <td>19</td>\n",
       "      <td>19</td>\n",
       "      <td>14162</td>\n",
       "      <td>745.368421</td>\n",
       "      <td>4</td>\n",
       "      <td>3540.500000</td>\n",
       "      <td>0.0</td>\n",
       "    </tr>\n",
       "    <tr>\n",
       "      <th>1000007</th>\n",
       "      <td>2</td>\n",
       "      <td>2</td>\n",
       "      <td>1439</td>\n",
       "      <td>719.500000</td>\n",
       "      <td>2</td>\n",
       "      <td>719.500000</td>\n",
       "      <td>0.0</td>\n",
       "    </tr>\n",
       "    <tr>\n",
       "      <th>1000008</th>\n",
       "      <td>49</td>\n",
       "      <td>49</td>\n",
       "      <td>37375</td>\n",
       "      <td>762.755102</td>\n",
       "      <td>3</td>\n",
       "      <td>12458.333333</td>\n",
       "      <td>1.0</td>\n",
       "    </tr>\n",
       "    <tr>\n",
       "      <th>1000009</th>\n",
       "      <td>29</td>\n",
       "      <td>29</td>\n",
       "      <td>20751</td>\n",
       "      <td>715.551724</td>\n",
       "      <td>3</td>\n",
       "      <td>6917.000000</td>\n",
       "      <td>1.0</td>\n",
       "    </tr>\n",
       "    <tr>\n",
       "      <th>1000010</th>\n",
       "      <td>122</td>\n",
       "      <td>122</td>\n",
       "      <td>92959</td>\n",
       "      <td>761.959016</td>\n",
       "      <td>7</td>\n",
       "      <td>13279.857143</td>\n",
       "      <td>1.0</td>\n",
       "    </tr>\n",
       "    <tr>\n",
       "      <th>1000011</th>\n",
       "      <td>40</td>\n",
       "      <td>40</td>\n",
       "      <td>29564</td>\n",
       "      <td>739.100000</td>\n",
       "      <td>3</td>\n",
       "      <td>9854.666667</td>\n",
       "      <td>1.0</td>\n",
       "    </tr>\n",
       "  </tbody>\n",
       "</table>\n",
       "</div>"
      ],
      "text/plain": [
       "         No_of_Trans  Unique_Products  Total_Amt  Avg_Amt_per_Trans  \\\n",
       "User_ID                                                               \n",
       "1000001           12               12       9979         831.583333   \n",
       "1000002           37               37      28416         768.000000   \n",
       "1000003           10               10       7329         732.900000   \n",
       "1000005           55               55      38641         702.563636   \n",
       "1000006           19               19      14162         745.368421   \n",
       "1000007            2                2       1439         719.500000   \n",
       "1000008           49               49      37375         762.755102   \n",
       "1000009           29               29      20751         715.551724   \n",
       "1000010          122              122      92959         761.959016   \n",
       "1000011           40               40      29564         739.100000   \n",
       "\n",
       "         No_of_unique_Categories  Avg_Trans_per_Category  Fav  \n",
       "User_ID                                                        \n",
       "1000001                        3             3326.333333  0.0  \n",
       "1000002                        4             7104.000000  0.0  \n",
       "1000003                        3             2443.000000  1.0  \n",
       "1000005                        7             5520.142857  0.0  \n",
       "1000006                        4             3540.500000  0.0  \n",
       "1000007                        2              719.500000  0.0  \n",
       "1000008                        3            12458.333333  1.0  \n",
       "1000009                        3             6917.000000  1.0  \n",
       "1000010                        7            13279.857143  1.0  \n",
       "1000011                        3             9854.666667  1.0  "
      ]
     },
     "execution_count": 39,
     "metadata": {},
     "output_type": "execute_result"
    }
   ],
   "source": [
    "User_profile=pd.merge(User_profile,User_pivot['Fav'],left_index=True,right_index=True)\n",
    "User_profile.head(10)"
   ]
  },
  {
   "cell_type": "markdown",
   "metadata": {},
   "source": [
    "## Visualizations"
   ]
  },
  {
   "cell_type": "markdown",
   "metadata": {},
   "source": [
    "### Questions  can be asked on the Demographic data with the available information. \n",
    "    How many Male and Female customers or their percentage ?\n",
    "    How many no of people are Married/Unmarried Category ?\n",
    "        This can also be checked gender wise    \n",
    "    No of Customers in each City type ?\n",
    "    What is the Age distribution of Customers ?\n",
    "        We can also check city wise.\n",
    "    Is there any Extreme values in the Age ?\n",
    "        This can also be done City Wise.\n",
    "    Segment the Customers based on their stay in the City ?"
   ]
  },
  {
   "cell_type": "code",
   "execution_count": 40,
   "metadata": {},
   "outputs": [
    {
     "name": "stdout",
     "output_type": "stream",
     "text": [
      "M    4229\n",
      "F    1669\n",
      "Name: Gender, dtype: int64\n"
     ]
    }
   ],
   "source": [
    "print(Data1['Gender'].value_counts() )\n"
   ]
  },
  {
   "cell_type": "code",
   "execution_count": 41,
   "metadata": {},
   "outputs": [
    {
     "data": {
      "text/plain": [
       "<Figure size 1000x500 with 1 Axes>"
      ]
     },
     "metadata": {},
     "output_type": "display_data"
    }
   ],
   "source": [
    "import matplotlib.pyplot as plt\n",
    "plt.figure(figsize=(10,5))\n",
    "plt.bar(['Male','Female'],Data1['Gender'].value_counts())\n",
    "plt.title('Frequency of male and female',fontsize=20)\n",
    "plt.xlabel(\"Gender\",fontsize=15)\n",
    "plt.ylabel(\"Frequency\",fontSIZE=15)\n",
    "plt.xticks(fontsize=15)\n",
    "plt.yticks(fontsize=15)\n",
    "plt.show(True)"
   ]
  },
  {
   "cell_type": "code",
   "execution_count": 42,
   "metadata": {},
   "outputs": [
    {
     "data": {
      "text/plain": [
       "<Figure size 720x576 with 0 Axes>"
      ]
     },
     "metadata": {},
     "output_type": "display_data"
    },
    {
     "data": {
      "image/png": "[encoded data removed]",
      "text/plain": [
       "<Figure size 720x360 with 1 Axes>"
      ]
     },
     "metadata": {},
     "output_type": "display_data"
    }
   ],
   "source": [
    "plt.figure(figsize=(10,8))\n",
    "Data1.boxplot('Age',by='City_Category',figsize=(10,5))\n",
    "plt.xlabel('City Category',fontsize=15)\n",
    "plt.xticks(fontsize=15)\n",
    "plt.yticks(fontsize=15)\n",
    "plt.show()"
   ]
  },
  {
   "cell_type": "code",
   "execution_count": 43,
   "metadata": {},
   "outputs": [
    {
     "data": {
      "image/png": "[encoded data removed]",
      "text/plain": [
       "<Figure size 1080x576 with 1 Axes>"
      ]
     },
     "metadata": {},
     "output_type": "display_data"
    }
   ],
   "source": [
    "plt.figure(figsize=(15,8))\n",
    "pos_demo=pd.merge(Trans,Data1)\n",
    "revenue_city=pos_demo[['City_Category','Purchase']].groupby(['City_Category'])['Purchase'].sum()\n",
    "ax=revenue_city.plot(kind='bar')\n",
    "plt.xlabel('City_Category',fontsize=15)\n",
    "plt.ylabel('Revenue',fontsize=15)\n",
    "plt.title('City wise Revenue',fontsize=20)\n",
    "plt.xticks(rotation=0,fontsize=15)\n",
    "plt.show()"
   ]
  },
  {
   "cell_type": "code",
   "execution_count": 44,
   "metadata": {},
   "outputs": [
    {
     "data": {
      "text/plain": [
       "Index(['Date', 'User_ID', 'Product_ID', 'Purchase', 'Gender', 'Age',\n",
       "       'Occupation', 'City_Category', 'Stay_In_Current_City_Years',\n",
       "       'Marital_Status', 'Age_Group'],\n",
       "      dtype='object')"
      ]
     },
     "execution_count": 44,
     "metadata": {},
     "output_type": "execute_result"
    }
   ],
   "source": [
    "pos_demo.columns"
   ]
  },
  {
   "cell_type": "code",
   "execution_count": 45,
   "metadata": {},
   "outputs": [],
   "source": [
    "from ipywidgets import widgets, interactive,fixed,interact\n",
    "def boxplot_Purchase_Cat(df,attr):\n",
    "    #plt.figure(figsize=(10,5))\n",
    "    col_ind=np.where(attr==pos_demo.columns)\n",
    "    df1=pd.DataFrame(df.groupby(['User_ID',attr])['Purchase'].sum()).reset_index()\n",
    "   \n",
    "    df1.boxplot('Purchase',by=attr,fontsize=10,figsize=(10,5))\n",
    "    plt.xlabel(pos_demo.columns[col_ind], fontsize=20, color='black', alpha = 0.8)\n",
    "    plt.ylabel('Purchase ',fontsize=20, color='black', alpha = 0.8)\n",
    "    plt.xticks(fontsize=15,rotation=45)\n",
    "    plt.yticks(fontsize=15)\n",
    "    plt.show()\n",
    "l1=['Gender','Occupation','City_Category','Marital_Status']\n",
    "Cat_widget = widgets.Dropdown(\n",
    "    options= list(l1),\n",
    "    description='Analysis',fontsize=20\n",
    ")"
   ]
  },
  {
   "cell_type": "code",
   "execution_count": 46,
   "metadata": {},
   "outputs": [
    {
     "data": {
      "application/vnd.jupyter.widget-view+json": {
       "model_id": "cb7bf9fff77743109533dd12ca679b42",
       "version_major": 2,
       "version_minor": 0
      },
      "text/html": [
       "<p>Failed to display Jupyter Widget of type <code>interactive</code>.</p>\n",
       "<p>\n",
       "  If you're reading this message in the Jupyter Notebook or JupyterLab Notebook, it may mean\n",
       "  that the widgets JavaScript is still loading. If this message persists, it\n",
       "  likely means that the widgets JavaScript library is either not installed or\n",
       "  not enabled. See the <a href=\"https://ipywidgets.readthedocs.io/en/stable/user_install.html\">Jupyter\n",
       "  Widgets Documentation</a> for setup instructions.\n",
       "</p>\n",
       "<p>\n",
       "  If you're reading this message in another frontend (for example, a static\n",
       "  rendering on GitHub or <a href=\"https://nbviewer.jupyter.org/\">NBViewer</a>),\n",
       "  it may mean that your frontend doesn't currently support widgets.\n",
       "</p>\n"
      ],
      "text/plain": [
       "interactive(children=(Dropdown(description='Analysis', options=('Gender', 'Occupation', 'City_Category', 'Marital_Status'), value='Gender'), Output()), _dom_classes=('widget-interact',))"
      ]
     },
     "metadata": {},
     "output_type": "display_data"
    }
   ],
   "source": [
    "interactive(boxplot_Purchase_Cat,  attr=Cat_widget, df=fixed(pos_demo))"
   ]
  },
  {
   "cell_type": "code",
   "execution_count": 47,
   "metadata": {},
   "outputs": [
    {
     "data": {
      "text/plain": [
       "Date                          datetime64[ns]\n",
       "User_ID                                int64\n",
       "Product_ID                            object\n",
       "Purchase                               int64\n",
       "Gender                                object\n",
       "Age                                  float64\n",
       "Occupation                             int64\n",
       "City_Category                         object\n",
       "Stay_In_Current_City_Years            object\n",
       "Marital_Status                         int64\n",
       "Age_Group                           category\n",
       "dtype: object"
      ]
     },
     "execution_count": 47,
     "metadata": {},
     "output_type": "execute_result"
    }
   ],
   "source": [
    "pos_demo['Date']=pd.to_datetime(pos_demo['Date'],format=\"%d-%m-%Y\")\n",
    "pos_demo.dtypes"
   ]
  },
  {
   "cell_type": "code",
   "execution_count": 48,
   "metadata": {},
   "outputs": [
    {
     "data": {
      "text/html": [
       "<div>\n",
       "<style scoped>\n",
       "    .dataframe tbody tr th:only-of-type {\n",
       "        vertical-align: middle;\n",
       "    }\n",
       "\n",
       "    .dataframe tbody tr th {\n",
       "        vertical-align: top;\n",
       "    }\n",
       "\n",
       "    .dataframe thead th {\n",
       "        text-align: right;\n",
       "    }\n",
       "</style>\n",
       "<table border=\"1\" class=\"dataframe\">\n",
       "  <thead>\n",
       "    <tr style=\"text-align: right;\">\n",
       "      <th></th>\n",
       "      <th>Date</th>\n",
       "      <th>User_ID</th>\n",
       "      <th>Product_ID</th>\n",
       "      <th>Purchase</th>\n",
       "      <th>Gender</th>\n",
       "      <th>Age</th>\n",
       "      <th>Occupation</th>\n",
       "      <th>City_Category</th>\n",
       "      <th>Stay_In_Current_City_Years</th>\n",
       "      <th>Marital_Status</th>\n",
       "      <th>Age_Group</th>\n",
       "      <th>Week</th>\n",
       "      <th>Month</th>\n",
       "    </tr>\n",
       "  </thead>\n",
       "  <tbody>\n",
       "    <tr>\n",
       "      <th>0</th>\n",
       "      <td>2018-09-28</td>\n",
       "      <td>1000001</td>\n",
       "      <td>P00069042</td>\n",
       "      <td>837</td>\n",
       "      <td>F</td>\n",
       "      <td>15.0</td>\n",
       "      <td>10</td>\n",
       "      <td>A</td>\n",
       "      <td>2</td>\n",
       "      <td>0</td>\n",
       "      <td>0-17</td>\n",
       "      <td>39</td>\n",
       "      <td>9</td>\n",
       "    </tr>\n",
       "    <tr>\n",
       "      <th>1</th>\n",
       "      <td>2018-07-29</td>\n",
       "      <td>1000001</td>\n",
       "      <td>P00117942</td>\n",
       "      <td>884</td>\n",
       "      <td>F</td>\n",
       "      <td>15.0</td>\n",
       "      <td>10</td>\n",
       "      <td>A</td>\n",
       "      <td>2</td>\n",
       "      <td>0</td>\n",
       "      <td>0-17</td>\n",
       "      <td>30</td>\n",
       "      <td>7</td>\n",
       "    </tr>\n",
       "    <tr>\n",
       "      <th>2</th>\n",
       "      <td>2018-07-28</td>\n",
       "      <td>1000001</td>\n",
       "      <td>P00258742</td>\n",
       "      <td>691</td>\n",
       "      <td>F</td>\n",
       "      <td>15.0</td>\n",
       "      <td>10</td>\n",
       "      <td>A</td>\n",
       "      <td>2</td>\n",
       "      <td>0</td>\n",
       "      <td>0-17</td>\n",
       "      <td>30</td>\n",
       "      <td>7</td>\n",
       "    </tr>\n",
       "    <tr>\n",
       "      <th>3</th>\n",
       "      <td>2018-07-27</td>\n",
       "      <td>1000001</td>\n",
       "      <td>P00142242</td>\n",
       "      <td>788</td>\n",
       "      <td>F</td>\n",
       "      <td>15.0</td>\n",
       "      <td>10</td>\n",
       "      <td>A</td>\n",
       "      <td>2</td>\n",
       "      <td>0</td>\n",
       "      <td>0-17</td>\n",
       "      <td>30</td>\n",
       "      <td>7</td>\n",
       "    </tr>\n",
       "    <tr>\n",
       "      <th>4</th>\n",
       "      <td>2018-07-29</td>\n",
       "      <td>1000001</td>\n",
       "      <td>P00297042</td>\n",
       "      <td>784</td>\n",
       "      <td>F</td>\n",
       "      <td>15.0</td>\n",
       "      <td>10</td>\n",
       "      <td>A</td>\n",
       "      <td>2</td>\n",
       "      <td>0</td>\n",
       "      <td>0-17</td>\n",
       "      <td>30</td>\n",
       "      <td>7</td>\n",
       "    </tr>\n",
       "  </tbody>\n",
       "</table>\n",
       "</div>"
      ],
      "text/plain": [
       "        Date  User_ID Product_ID  Purchase Gender   Age  Occupation  \\\n",
       "0 2018-09-28  1000001  P00069042       837      F  15.0          10   \n",
       "1 2018-07-29  1000001  P00117942       884      F  15.0          10   \n",
       "2 2018-07-28  1000001  P00258742       691      F  15.0          10   \n",
       "3 2018-07-27  1000001  P00142242       788      F  15.0          10   \n",
       "4 2018-07-29  1000001  P00297042       784      F  15.0          10   \n",
       "\n",
       "  City_Category Stay_In_Current_City_Years  Marital_Status Age_Group  Week  \\\n",
       "0             A                          2               0      0-17    39   \n",
       "1             A                          2               0      0-17    30   \n",
       "2             A                          2               0      0-17    30   \n",
       "3             A                          2               0      0-17    30   \n",
       "4             A                          2               0      0-17    30   \n",
       "\n",
       "   Month  \n",
       "0      9  \n",
       "1      7  \n",
       "2      7  \n",
       "3      7  \n",
       "4      7  "
      ]
     },
     "execution_count": 48,
     "metadata": {},
     "output_type": "execute_result"
    }
   ],
   "source": [
    "pos_demo['Week']=pos_demo['Date'].dt.week\n",
    "pos_demo['Month']=pos_demo['Date'].dt.month\n",
    "pos_demo.head(5)"
   ]
  },
  {
   "cell_type": "code",
   "execution_count": 49,
   "metadata": {},
   "outputs": [
    {
     "data": {
      "text/plain": [
       "Text(0, 0.5, 'Revenue')"
      ]
     },
     "execution_count": 49,
     "metadata": {},
     "output_type": "execute_result"
    },
    {
     "data": {
      "image/png": "[encoded data removed]",
      "text/plain": [
       "<Figure size 720x360 with 1 Axes>"
      ]
     },
     "metadata": {},
     "output_type": "display_data"
    }
   ],
   "source": [
    "plt.figure(figsize=(10,5))\n",
    "weekly_revenue=pd.DataFrame(pos_demo.groupby('Week')['Purchase'].sum()).reset_index(level=0)\n",
    "weekly_revenue\n",
    "plt.plot(weekly_revenue['Week'],weekly_revenue['Purchase'])\n",
    "plt.title('Revenue ',fontsize=20)\n",
    "plt.xlabel('Weeks',fontsize=15)\n",
    "plt.xticks(weekly_revenue.Week,fontsize=15)\n",
    "plt.yticks(fontsize=15)\n",
    "plt.ylabel('Revenue',fontsize=15)"
   ]
  },
  {
   "cell_type": "code",
   "execution_count": 50,
   "metadata": {},
   "outputs": [],
   "source": [
    "### Merging the data frame\n",
    "Prod_pos_demo=pd.merge(pos_demo,Prod,on='Product_ID',how='left')"
   ]
  },
  {
   "cell_type": "code",
   "execution_count": 51,
   "metadata": {},
   "outputs": [
    {
     "data": {
      "image/png": "[encoded data removed]",
      "text/plain": [
       "<Figure size 720x576 with 1 Axes>"
      ]
     },
     "metadata": {},
     "output_type": "display_data"
    }
   ],
   "source": [
    "HighRevenue=Prod_pos_demo.groupby(['Product_Category'])['Purchase'].sum()\n",
    "HighRev_top10=HighRevenue.sort_values(ascending=False)[:10]\n",
    "HighRev_top10.plot(kind='bar',figsize=(10,8),title=\"ProductCategory vs Revenue\")\n",
    "plt.xlabel('Product Category',fontsize=20)\n",
    "plt.ylabel('Revenue',fontsize=20)\n",
    "plt.xticks(fontsize=20,rotation=0)\n",
    "plt.yticks(fontsize=20)\n",
    "plt.title(\"High Revenue for Products\",fontsize=20)\n",
    "plt.show()"
   ]
  },
  {
   "cell_type": "markdown",
   "metadata": {},
   "source": [
    "#### Plotting at an aggegated level"
   ]
  },
  {
   "cell_type": "code",
   "execution_count": 52,
   "metadata": {},
   "outputs": [
    {
     "data": {
      "text/plain": [
       "Index(['No_of_Trans', 'Unique_Products', 'Total_Amt', 'Avg_Amt_per_Trans',\n",
       "       'No_of_unique_Categories', 'Avg_Trans_per_Category', 'Fav'],\n",
       "      dtype='object')"
      ]
     },
     "execution_count": 52,
     "metadata": {},
     "output_type": "execute_result"
    }
   ],
   "source": [
    "User_profile.columns"
   ]
  },
  {
   "cell_type": "code",
   "execution_count": 53,
   "metadata": {},
   "outputs": [
    {
     "data": {
      "text/plain": [
       "Index(['User_ID', 'Gender', 'Age', 'Occupation', 'City_Category',\n",
       "       'Stay_In_Current_City_Years', 'Marital_Status', 'Age_Group'],\n",
       "      dtype='object')"
      ]
     },
     "execution_count": 53,
     "metadata": {},
     "output_type": "execute_result"
    }
   ],
   "source": [
    "Data1.columns"
   ]
  },
  {
   "cell_type": "code",
   "execution_count": 54,
   "metadata": {},
   "outputs": [],
   "source": [
    "User_profile['User_ID']=User_profile.index"
   ]
  },
  {
   "cell_type": "code",
   "execution_count": 55,
   "metadata": {},
   "outputs": [],
   "source": [
    "del User_profile.index.name"
   ]
  },
  {
   "cell_type": "code",
   "execution_count": 56,
   "metadata": {},
   "outputs": [
    {
     "data": {
      "text/html": [
       "<div>\n",
       "<style scoped>\n",
       "    .dataframe tbody tr th:only-of-type {\n",
       "        vertical-align: middle;\n",
       "    }\n",
       "\n",
       "    .dataframe tbody tr th {\n",
       "        vertical-align: top;\n",
       "    }\n",
       "\n",
       "    .dataframe thead th {\n",
       "        text-align: right;\n",
       "    }\n",
       "</style>\n",
       "<table border=\"1\" class=\"dataframe\">\n",
       "  <thead>\n",
       "    <tr style=\"text-align: right;\">\n",
       "      <th></th>\n",
       "      <th>No_of_Trans</th>\n",
       "      <th>Unique_Products</th>\n",
       "      <th>Total_Amt</th>\n",
       "      <th>Avg_Amt_per_Trans</th>\n",
       "      <th>No_of_unique_Categories</th>\n",
       "      <th>Avg_Trans_per_Category</th>\n",
       "      <th>Fav</th>\n",
       "      <th>User_ID</th>\n",
       "    </tr>\n",
       "  </thead>\n",
       "  <tbody>\n",
       "    <tr>\n",
       "      <th>1000001</th>\n",
       "      <td>12</td>\n",
       "      <td>12</td>\n",
       "      <td>9979</td>\n",
       "      <td>831.583333</td>\n",
       "      <td>3</td>\n",
       "      <td>3326.333333</td>\n",
       "      <td>0.0</td>\n",
       "      <td>1000001</td>\n",
       "    </tr>\n",
       "    <tr>\n",
       "      <th>1000002</th>\n",
       "      <td>37</td>\n",
       "      <td>37</td>\n",
       "      <td>28416</td>\n",
       "      <td>768.000000</td>\n",
       "      <td>4</td>\n",
       "      <td>7104.000000</td>\n",
       "      <td>0.0</td>\n",
       "      <td>1000002</td>\n",
       "    </tr>\n",
       "    <tr>\n",
       "      <th>1000003</th>\n",
       "      <td>10</td>\n",
       "      <td>10</td>\n",
       "      <td>7329</td>\n",
       "      <td>732.900000</td>\n",
       "      <td>3</td>\n",
       "      <td>2443.000000</td>\n",
       "      <td>1.0</td>\n",
       "      <td>1000003</td>\n",
       "    </tr>\n",
       "    <tr>\n",
       "      <th>1000005</th>\n",
       "      <td>55</td>\n",
       "      <td>55</td>\n",
       "      <td>38641</td>\n",
       "      <td>702.563636</td>\n",
       "      <td>7</td>\n",
       "      <td>5520.142857</td>\n",
       "      <td>0.0</td>\n",
       "      <td>1000005</td>\n",
       "    </tr>\n",
       "  </tbody>\n",
       "</table>\n",
       "</div>"
      ],
      "text/plain": [
       "         No_of_Trans  Unique_Products  Total_Amt  Avg_Amt_per_Trans  \\\n",
       "1000001           12               12       9979         831.583333   \n",
       "1000002           37               37      28416         768.000000   \n",
       "1000003           10               10       7329         732.900000   \n",
       "1000005           55               55      38641         702.563636   \n",
       "\n",
       "         No_of_unique_Categories  Avg_Trans_per_Category  Fav  User_ID  \n",
       "1000001                        3             3326.333333  0.0  1000001  \n",
       "1000002                        4             7104.000000  0.0  1000002  \n",
       "1000003                        3             2443.000000  1.0  1000003  \n",
       "1000005                        7             5520.142857  0.0  1000005  "
      ]
     },
     "execution_count": 56,
     "metadata": {},
     "output_type": "execute_result"
    }
   ],
   "source": [
    "User_profile.head(4)"
   ]
  },
  {
   "cell_type": "code",
   "execution_count": 57,
   "metadata": {},
   "outputs": [],
   "source": [
    "User_Demo=pd.merge(User_profile,Data1,how='left')"
   ]
  },
  {
   "cell_type": "code",
   "execution_count": 58,
   "metadata": {},
   "outputs": [
    {
     "data": {
      "text/html": [
       "<div>\n",
       "<style scoped>\n",
       "    .dataframe tbody tr th:only-of-type {\n",
       "        vertical-align: middle;\n",
       "    }\n",
       "\n",
       "    .dataframe tbody tr th {\n",
       "        vertical-align: top;\n",
       "    }\n",
       "\n",
       "    .dataframe thead th {\n",
       "        text-align: right;\n",
       "    }\n",
       "</style>\n",
       "<table border=\"1\" class=\"dataframe\">\n",
       "  <thead>\n",
       "    <tr style=\"text-align: right;\">\n",
       "      <th></th>\n",
       "      <th>No_of_Trans</th>\n",
       "      <th>Unique_Products</th>\n",
       "      <th>Total_Amt</th>\n",
       "      <th>Avg_Amt_per_Trans</th>\n",
       "      <th>No_of_unique_Categories</th>\n",
       "      <th>Avg_Trans_per_Category</th>\n",
       "      <th>Fav</th>\n",
       "      <th>User_ID</th>\n",
       "      <th>Gender</th>\n",
       "      <th>Age</th>\n",
       "      <th>Occupation</th>\n",
       "      <th>City_Category</th>\n",
       "      <th>Stay_In_Current_City_Years</th>\n",
       "      <th>Marital_Status</th>\n",
       "      <th>Age_Group</th>\n",
       "    </tr>\n",
       "  </thead>\n",
       "  <tbody>\n",
       "    <tr>\n",
       "      <th>0</th>\n",
       "      <td>12</td>\n",
       "      <td>12</td>\n",
       "      <td>9979</td>\n",
       "      <td>831.583333</td>\n",
       "      <td>3</td>\n",
       "      <td>3326.333333</td>\n",
       "      <td>0.0</td>\n",
       "      <td>1000001</td>\n",
       "      <td>F</td>\n",
       "      <td>15.0</td>\n",
       "      <td>10.0</td>\n",
       "      <td>A</td>\n",
       "      <td>2</td>\n",
       "      <td>0.0</td>\n",
       "      <td>0-17</td>\n",
       "    </tr>\n",
       "    <tr>\n",
       "      <th>1</th>\n",
       "      <td>37</td>\n",
       "      <td>37</td>\n",
       "      <td>28416</td>\n",
       "      <td>768.000000</td>\n",
       "      <td>4</td>\n",
       "      <td>7104.000000</td>\n",
       "      <td>0.0</td>\n",
       "      <td>1000002</td>\n",
       "      <td>M</td>\n",
       "      <td>69.0</td>\n",
       "      <td>16.0</td>\n",
       "      <td>C</td>\n",
       "      <td>4+</td>\n",
       "      <td>0.0</td>\n",
       "      <td>55+</td>\n",
       "    </tr>\n",
       "    <tr>\n",
       "      <th>2</th>\n",
       "      <td>10</td>\n",
       "      <td>10</td>\n",
       "      <td>7329</td>\n",
       "      <td>732.900000</td>\n",
       "      <td>3</td>\n",
       "      <td>2443.000000</td>\n",
       "      <td>1.0</td>\n",
       "      <td>1000003</td>\n",
       "      <td>M</td>\n",
       "      <td>34.0</td>\n",
       "      <td>15.0</td>\n",
       "      <td>A</td>\n",
       "      <td>3</td>\n",
       "      <td>0.0</td>\n",
       "      <td>26-35</td>\n",
       "    </tr>\n",
       "  </tbody>\n",
       "</table>\n",
       "</div>"
      ],
      "text/plain": [
       "   No_of_Trans  Unique_Products  Total_Amt  Avg_Amt_per_Trans  \\\n",
       "0           12               12       9979         831.583333   \n",
       "1           37               37      28416         768.000000   \n",
       "2           10               10       7329         732.900000   \n",
       "\n",
       "   No_of_unique_Categories  Avg_Trans_per_Category  Fav  User_ID Gender   Age  \\\n",
       "0                        3             3326.333333  0.0  1000001      F  15.0   \n",
       "1                        4             7104.000000  0.0  1000002      M  69.0   \n",
       "2                        3             2443.000000  1.0  1000003      M  34.0   \n",
       "\n",
       "   Occupation City_Category Stay_In_Current_City_Years  Marital_Status  \\\n",
       "0        10.0             A                          2             0.0   \n",
       "1        16.0             C                         4+             0.0   \n",
       "2        15.0             A                          3             0.0   \n",
       "\n",
       "  Age_Group  \n",
       "0      0-17  \n",
       "1       55+  \n",
       "2     26-35  "
      ]
     },
     "execution_count": 58,
     "metadata": {},
     "output_type": "execute_result"
    }
   ],
   "source": [
    "User_Demo.head(3)"
   ]
  },
  {
   "cell_type": "code",
   "execution_count": 59,
   "metadata": {},
   "outputs": [
    {
     "name": "stdout",
     "output_type": "stream",
     "text": [
      "      No_of_Trans  Unique_Products  Total_Amt  Avg_Amt_per_Trans  \\\n",
      "1631          540              540     401302         743.151852   \n",
      "4157          494              494     382836         774.971660   \n",
      "979           431              431     317057         735.631090   \n",
      "1920          389              389     284272         730.776350   \n",
      "3130          380              380     282424         743.221053   \n",
      "5670          380              380     281230         740.078947   \n",
      "3292          358              358     281033         785.008380   \n",
      "1139          416              416     280374         673.975962   \n",
      "3512          420              420     274230         652.928571   \n",
      "861           397              397     269989         680.073048   \n",
      "\n",
      "      No_of_unique_Categories  Avg_Trans_per_Category  Fav  User_ID Gender  \\\n",
      "1631                       10            40130.200000  0.0  1001680      M   \n",
      "4157                        9            42537.333333  0.0  1004277      M   \n",
      "979                        10            31705.700000  0.0  1001015      M   \n",
      "1920                       10            28427.200000  0.0  1001980      M   \n",
      "3130                        7            40346.285714  0.0  1003224      F   \n",
      "5670                        7            40175.714286  0.0  1005831      M   \n",
      "3292                        9            31225.888889  0.0  1003391      M   \n",
      "1139                       12            23364.500000  0.0  1001181      M   \n",
      "3512                       11            24930.000000  0.0  1003618      M   \n",
      "861                        13            20768.384615  0.0  1000889      M   \n",
      "\n",
      "       Age  Occupation City_Category Stay_In_Current_City_Years  \\\n",
      "1631  31.0        20.0             A                          3   \n",
      "4157  43.0        16.0             A                          0   \n",
      "979   44.0         3.0             A                         4+   \n",
      "1920  42.0         7.0             A                          1   \n",
      "3130  30.0        14.0             A                          3   \n",
      "5670  26.0         1.0             A                          2   \n",
      "3292  24.0         4.0             A                          0   \n",
      "1139  44.0         7.0             A                          3   \n",
      "3512  62.0        17.0             A                         4+   \n",
      "861   47.0        20.0             A                          1   \n",
      "\n",
      "      Marital_Status Age_Group  \n",
      "1631             1.0     26-35  \n",
      "4157             0.0     36-45  \n",
      "979              1.0     36-45  \n",
      "1920             0.0     36-45  \n",
      "3130             1.0     26-35  \n",
      "5670             1.0     26-35  \n",
      "3292             0.0     18-25  \n",
      "1139             1.0     36-45  \n",
      "3512             1.0       55+  \n",
      "861              0.0     46-50  \n",
      "       Cumsum\n",
      "1631   401302\n",
      "4157   784138\n",
      "979   1101195\n",
      "1920  1385467\n",
      "3130  1667891\n",
      "5670  1949121\n",
      "3292  2230154\n",
      "1139  2510528\n",
      "3512  2784758\n",
      "861   3054747\n"
     ]
    }
   ],
   "source": [
    "Data1=User_Demo.sort_values(by='Total_Amt',ascending=False)\n",
    "print(Data1.head(10))\n",
    "Cumulative=pd.DataFrame(Data1[['Total_Amt']].cumsum())\n",
    "Cumulative.rename(columns={'Total_Amt':'Cumsum'},inplace=True)\n",
    "print(Cumulative.head(10))"
   ]
  },
  {
   "cell_type": "code",
   "execution_count": 60,
   "metadata": {},
   "outputs": [],
   "source": [
    "#Cumulative=pd.DataFrame(Data1[['Total_Amt']].cumsum())\n",
    "Perc=pd.DataFrame((Data1[['Total_Amt']].cumsum()/Data1[['Total_Amt']].sum())*100)\n",
    "Perc.head(2)\n",
    "Perc.rename(columns={'Total_Amt':'Percentage'},inplace=True)\n",
    "Data1=pd.concat([Data1,Perc,Cumulative,],axis=1)"
   ]
  },
  {
   "cell_type": "code",
   "execution_count": 61,
   "metadata": {},
   "outputs": [
    {
     "data": {
      "text/html": [
       "<div>\n",
       "<style scoped>\n",
       "    .dataframe tbody tr th:only-of-type {\n",
       "        vertical-align: middle;\n",
       "    }\n",
       "\n",
       "    .dataframe tbody tr th {\n",
       "        vertical-align: top;\n",
       "    }\n",
       "\n",
       "    .dataframe thead th {\n",
       "        text-align: right;\n",
       "    }\n",
       "</style>\n",
       "<table border=\"1\" class=\"dataframe\">\n",
       "  <thead>\n",
       "    <tr style=\"text-align: right;\">\n",
       "      <th></th>\n",
       "      <th>User_ID</th>\n",
       "      <th>Total_Amt</th>\n",
       "      <th>Cumsum</th>\n",
       "      <th>Percentage</th>\n",
       "    </tr>\n",
       "  </thead>\n",
       "  <tbody>\n",
       "    <tr>\n",
       "      <th>1631</th>\n",
       "      <td>1001680</td>\n",
       "      <td>401302</td>\n",
       "      <td>401302</td>\n",
       "      <td>0.207487</td>\n",
       "    </tr>\n",
       "    <tr>\n",
       "      <th>4157</th>\n",
       "      <td>1004277</td>\n",
       "      <td>382836</td>\n",
       "      <td>784138</td>\n",
       "      <td>0.405426</td>\n",
       "    </tr>\n",
       "    <tr>\n",
       "      <th>979</th>\n",
       "      <td>1001015</td>\n",
       "      <td>317057</td>\n",
       "      <td>1101195</td>\n",
       "      <td>0.569355</td>\n",
       "    </tr>\n",
       "    <tr>\n",
       "      <th>1920</th>\n",
       "      <td>1001980</td>\n",
       "      <td>284272</td>\n",
       "      <td>1385467</td>\n",
       "      <td>0.716334</td>\n",
       "    </tr>\n",
       "    <tr>\n",
       "      <th>3130</th>\n",
       "      <td>1003224</td>\n",
       "      <td>282424</td>\n",
       "      <td>1667891</td>\n",
       "      <td>0.862356</td>\n",
       "    </tr>\n",
       "    <tr>\n",
       "      <th>5670</th>\n",
       "      <td>1005831</td>\n",
       "      <td>281230</td>\n",
       "      <td>1949121</td>\n",
       "      <td>1.007762</td>\n",
       "    </tr>\n",
       "    <tr>\n",
       "      <th>3292</th>\n",
       "      <td>1003391</td>\n",
       "      <td>281033</td>\n",
       "      <td>2230154</td>\n",
       "      <td>1.153065</td>\n",
       "    </tr>\n",
       "    <tr>\n",
       "      <th>1139</th>\n",
       "      <td>1001181</td>\n",
       "      <td>280374</td>\n",
       "      <td>2510528</td>\n",
       "      <td>1.298028</td>\n",
       "    </tr>\n",
       "    <tr>\n",
       "      <th>3512</th>\n",
       "      <td>1003618</td>\n",
       "      <td>274230</td>\n",
       "      <td>2784758</td>\n",
       "      <td>1.439815</td>\n",
       "    </tr>\n",
       "    <tr>\n",
       "      <th>861</th>\n",
       "      <td>1000889</td>\n",
       "      <td>269989</td>\n",
       "      <td>3054747</td>\n",
       "      <td>1.579408</td>\n",
       "    </tr>\n",
       "  </tbody>\n",
       "</table>\n",
       "</div>"
      ],
      "text/plain": [
       "      User_ID  Total_Amt   Cumsum  Percentage\n",
       "1631  1001680     401302   401302    0.207487\n",
       "4157  1004277     382836   784138    0.405426\n",
       "979   1001015     317057  1101195    0.569355\n",
       "1920  1001980     284272  1385467    0.716334\n",
       "3130  1003224     282424  1667891    0.862356\n",
       "5670  1005831     281230  1949121    1.007762\n",
       "3292  1003391     281033  2230154    1.153065\n",
       "1139  1001181     280374  2510528    1.298028\n",
       "3512  1003618     274230  2784758    1.439815\n",
       "861   1000889     269989  3054747    1.579408"
      ]
     },
     "execution_count": 61,
     "metadata": {},
     "output_type": "execute_result"
    }
   ],
   "source": [
    "Data2=Data1[['User_ID','Total_Amt','Cumsum','Percentage']]\n",
    "Data2.head(10)"
   ]
  },
  {
   "cell_type": "code",
   "execution_count": 62,
   "metadata": {},
   "outputs": [
    {
     "data": {
      "image/png": "[encoded data removed]",
      "text/plain": [
       "<Figure size 432x288 with 2 Axes>"
      ]
     },
     "metadata": {},
     "output_type": "display_data"
    }
   ],
   "source": [
    "df=Data2\n",
    "x2=df.shape[0]\n",
    "x1=list(range(1,df.shape[0]+1,1))\n",
    "\n",
    "from matplotlib.ticker import PercentFormatter\n",
    "fig, ax = plt.subplots()\n",
    "ax.bar(x1, df[\"Total_Amt\"], color=\"C1\")\n",
    "ax2 = ax.twinx()\n",
    "ax2.plot(x1, df[\"Percentage\"], color=\"C2\", marker=\"D\",ms=7)\n",
    "ax2.yaxis.set_major_formatter(PercentFormatter())\n",
    "ax.tick_params(axis=\"y\", colors=\"C0\")\n",
    "ax2.tick_params(axis=\"y\", colors=\"C1\")\n",
    "plt.show()"
   ]
  },
  {
   "cell_type": "code",
   "execution_count": 63,
   "metadata": {},
   "outputs": [],
   "source": [
    "os.chdir(\"D:\\Infer\\Infer Delivery Folder\\Module 1\\Day 04\\Data\")"
   ]
  },
  {
   "cell_type": "code",
   "execution_count": 64,
   "metadata": {},
   "outputs": [
    {
     "data": {
      "text/html": [
       "<div>\n",
       "<style scoped>\n",
       "    .dataframe tbody tr th:only-of-type {\n",
       "        vertical-align: middle;\n",
       "    }\n",
       "\n",
       "    .dataframe tbody tr th {\n",
       "        vertical-align: top;\n",
       "    }\n",
       "\n",
       "    .dataframe thead th {\n",
       "        text-align: right;\n",
       "    }\n",
       "</style>\n",
       "<table border=\"1\" class=\"dataframe\">\n",
       "  <thead>\n",
       "    <tr style=\"text-align: right;\">\n",
       "      <th></th>\n",
       "      <th>Date</th>\n",
       "      <th>Coupon</th>\n",
       "      <th>Store</th>\n",
       "      <th>Units</th>\n",
       "      <th>Week</th>\n",
       "    </tr>\n",
       "  </thead>\n",
       "  <tbody>\n",
       "    <tr>\n",
       "      <th>0</th>\n",
       "      <td>28-8-2018</td>\n",
       "      <td>0</td>\n",
       "      <td>2</td>\n",
       "      <td>20</td>\n",
       "      <td>35</td>\n",
       "    </tr>\n",
       "    <tr>\n",
       "      <th>1</th>\n",
       "      <td>26-7-2018</td>\n",
       "      <td>1</td>\n",
       "      <td>1</td>\n",
       "      <td>18</td>\n",
       "      <td>30</td>\n",
       "    </tr>\n",
       "    <tr>\n",
       "      <th>2</th>\n",
       "      <td>26-8-2018</td>\n",
       "      <td>1</td>\n",
       "      <td>2</td>\n",
       "      <td>21</td>\n",
       "      <td>35</td>\n",
       "    </tr>\n",
       "    <tr>\n",
       "      <th>3</th>\n",
       "      <td>26-9-2018</td>\n",
       "      <td>1</td>\n",
       "      <td>1</td>\n",
       "      <td>20</td>\n",
       "      <td>39</td>\n",
       "    </tr>\n",
       "    <tr>\n",
       "      <th>4</th>\n",
       "      <td>30-7-2018</td>\n",
       "      <td>1</td>\n",
       "      <td>3</td>\n",
       "      <td>16</td>\n",
       "      <td>31</td>\n",
       "    </tr>\n",
       "    <tr>\n",
       "      <th>5</th>\n",
       "      <td>27-8-2018</td>\n",
       "      <td>1</td>\n",
       "      <td>2</td>\n",
       "      <td>25</td>\n",
       "      <td>35</td>\n",
       "    </tr>\n",
       "    <tr>\n",
       "      <th>6</th>\n",
       "      <td>26-8-2018</td>\n",
       "      <td>1</td>\n",
       "      <td>2</td>\n",
       "      <td>17</td>\n",
       "      <td>35</td>\n",
       "    </tr>\n",
       "    <tr>\n",
       "      <th>7</th>\n",
       "      <td>28-7-2018</td>\n",
       "      <td>0</td>\n",
       "      <td>1</td>\n",
       "      <td>15</td>\n",
       "      <td>30</td>\n",
       "    </tr>\n",
       "    <tr>\n",
       "      <th>8</th>\n",
       "      <td>27-7-2018</td>\n",
       "      <td>0</td>\n",
       "      <td>2</td>\n",
       "      <td>18</td>\n",
       "      <td>30</td>\n",
       "    </tr>\n",
       "    <tr>\n",
       "      <th>9</th>\n",
       "      <td>26-9-2018</td>\n",
       "      <td>1</td>\n",
       "      <td>2</td>\n",
       "      <td>18</td>\n",
       "      <td>39</td>\n",
       "    </tr>\n",
       "  </tbody>\n",
       "</table>\n",
       "</div>"
      ],
      "text/plain": [
       "        Date  Coupon  Store  Units  Week\n",
       "0  28-8-2018       0      2     20    35\n",
       "1  26-7-2018       1      1     18    30\n",
       "2  26-8-2018       1      2     21    35\n",
       "3  26-9-2018       1      1     20    39\n",
       "4  30-7-2018       1      3     16    31\n",
       "5  27-8-2018       1      2     25    35\n",
       "6  26-8-2018       1      2     17    35\n",
       "7  28-7-2018       0      1     15    30\n",
       "8  27-7-2018       0      2     18    30\n",
       "9  26-9-2018       1      2     18    39"
      ]
     },
     "execution_count": 64,
     "metadata": {},
     "output_type": "execute_result"
    }
   ],
   "source": [
    "Prom_data=pd.read_excel(\"StorePromotions.xlsx\",sheet_name=\"StorePromotion\")\n",
    "Prom_data.head(10)"
   ]
  },
  {
   "cell_type": "code",
   "execution_count": 65,
   "metadata": {},
   "outputs": [],
   "source": [
    "## We now need to separate the observations of Coupon 1 and Coupon 0\n",
    "yes=Prom_data[Prom_data['Coupon']==1]\n",
    "no=Prom_data[Prom_data['Coupon']==0]\n",
    "yes.reset_index(inplace=True)\n",
    "no.reset_index(inplace=True)"
   ]
  },
  {
   "cell_type": "code",
   "execution_count": 66,
   "metadata": {},
   "outputs": [
    {
     "data": {
      "image/png": "[encoded data removed]",
      "text/plain": [
       "<Figure size 864x720 with 1 Axes>"
      ]
     },
     "metadata": {},
     "output_type": "display_data"
    }
   ],
   "source": [
    "plt.figure(figsize=(12,10))\n",
    "bins=np.linspace(5,25)\n",
    "plt.hist(yes['Units'], bins, label='x')\n",
    "plt.hist(no['Units'], bins, label='y')\n",
    "plt.show()"
   ]
  },
  {
   "cell_type": "code",
   "execution_count": 67,
   "metadata": {},
   "outputs": [
    {
     "data": {
      "text/plain": [
       "Ttest_indResult(statistic=29.865873914942735, pvalue=1.520962480697447e-158)"
      ]
     },
     "execution_count": 67,
     "metadata": {},
     "output_type": "execute_result"
    }
   ],
   "source": [
    "import scipy.stats as stats\n",
    "stats.ttest_ind(yes['Units'],no['Units'])"
   ]
  },
  {
   "cell_type": "markdown",
   "metadata": {},
   "source": [
    "- Observe that the p-value for the t-statistic is very much less than 0.05, we can conclude that the sales during promotion are very different from sales during non-promotion. They are statistically different.\n",
    "- The information given here is partial and there are other aspects that we need to know. These are given by the function from researchpy module"
   ]
  },
  {
   "cell_type": "markdown",
   "metadata": {},
   "source": [
    "### From the given data, we understand that the promotion was done for a particular product on some days across the stores. We thoroughly checked if there is an influence of promotion overall and for each store. Now we want to know if the sales for this particular product is same across the stores?\n",
    "- Think about this and frame your hypothesis"
   ]
  },
  {
   "cell_type": "code",
   "execution_count": 68,
   "metadata": {},
   "outputs": [],
   "source": [
    "## We now need to obtain the sales of the products for each store\n",
    "store1=Prom_data[Prom_data['Store']==1]\n",
    "store2=Prom_data[Prom_data['Store']==2]\n",
    "store3=Prom_data[Prom_data['Store']==3]"
   ]
  },
  {
   "cell_type": "code",
   "execution_count": 69,
   "metadata": {},
   "outputs": [
    {
     "data": {
      "text/plain": [
       "F_onewayResult(statistic=18.294048224742497, pvalue=1.372510387931901e-08)"
      ]
     },
     "execution_count": 69,
     "metadata": {},
     "output_type": "execute_result"
    }
   ],
   "source": [
    "stats.f_oneway(store1['Units'],store2['Units'],store3['Units'])"
   ]
  },
  {
   "cell_type": "markdown",
   "metadata": {},
   "source": [
    "- Interpretation of Output\n",
    "    - Since the p-value for the statistic is very much less than 0.05, we have enough evidence to reject the null hypothesis and we conclude (from the given data) that the sales in atleast one store is different from the others"
   ]
  },
  {
   "cell_type": "markdown",
   "metadata": {},
   "source": [
    "#### Model"
   ]
  },
  {
   "cell_type": "code",
   "execution_count": 70,
   "metadata": {},
   "outputs": [
    {
     "data": {
      "text/plain": [
       "Index(['No_of_Trans', 'Unique_Products', 'Total_Amt', 'Avg_Amt_per_Trans',\n",
       "       'No_of_unique_Categories', 'Avg_Trans_per_Category', 'Fav', 'User_ID',\n",
       "       'Gender', 'Age', 'Occupation', 'City_Category',\n",
       "       'Stay_In_Current_City_Years', 'Marital_Status', 'Age_Group'],\n",
       "      dtype='object')"
      ]
     },
     "execution_count": 70,
     "metadata": {},
     "output_type": "execute_result"
    }
   ],
   "source": [
    "User_Demo.columns"
   ]
  },
  {
   "cell_type": "code",
   "execution_count": 71,
   "metadata": {},
   "outputs": [],
   "source": [
    "cols=['Age','City_Category','Gender','Occupation','Marital_Status',\n",
    "     'Total_Amt']\n",
    "\n",
    "Final_Data=User_Demo[cols]"
   ]
  },
  {
   "cell_type": "code",
   "execution_count": 72,
   "metadata": {},
   "outputs": [],
   "source": [
    "from sklearn.model_selection import train_test_split\n",
    "from sklearn.linear_model import LinearRegression"
   ]
  },
  {
   "cell_type": "code",
   "execution_count": 73,
   "metadata": {},
   "outputs": [
    {
     "data": {
      "text/plain": [
       "Age               float64\n",
       "City_Category      object\n",
       "Gender             object\n",
       "Occupation        float64\n",
       "Marital_Status    float64\n",
       "Total_Amt           int64\n",
       "dtype: object"
      ]
     },
     "execution_count": 73,
     "metadata": {},
     "output_type": "execute_result"
    }
   ],
   "source": [
    "Final_Data.dtypes"
   ]
  },
  {
   "cell_type": "code",
   "execution_count": 74,
   "metadata": {},
   "outputs": [
    {
     "name": "stderr",
     "output_type": "stream",
     "text": [
      "C:\\Users\\Somagiri\\Anaconda3\\lib\\site-packages\\ipykernel_launcher.py:3: SettingWithCopyWarning: \n",
      "A value is trying to be set on a copy of a slice from a DataFrame.\n",
      "Try using .loc[row_indexer,col_indexer] = value instead\n",
      "\n",
      "See the caveats in the documentation: http://pandas.pydata.org/pandas-docs/stable/indexing.html#indexing-view-versus-copy\n",
      "  This is separate from the ipykernel package so we can avoid doing imports until\n"
     ]
    }
   ],
   "source": [
    "cat=[\"City_Category\",\"Gender\",\"Occupation\",\"Marital_Status\"]\n",
    "for i in cat:\n",
    "    Final_Data[i]=Final_Data[i].astype('category')"
   ]
  },
  {
   "cell_type": "code",
   "execution_count": 75,
   "metadata": {},
   "outputs": [
    {
     "data": {
      "text/plain": [
       "Age                float64\n",
       "City_Category     category\n",
       "Gender            category\n",
       "Occupation        category\n",
       "Marital_Status    category\n",
       "Total_Amt            int64\n",
       "dtype: object"
      ]
     },
     "execution_count": 75,
     "metadata": {},
     "output_type": "execute_result"
    }
   ],
   "source": [
    "Final_Data.dtypes"
   ]
  },
  {
   "cell_type": "code",
   "execution_count": 76,
   "metadata": {},
   "outputs": [],
   "source": [
    "Final_Data=Final_Data.dropna()"
   ]
  },
  {
   "cell_type": "code",
   "execution_count": 77,
   "metadata": {},
   "outputs": [],
   "source": [
    "Final_Data['tar']=np.log(Final_Data['Total_Amt'])"
   ]
  },
  {
   "cell_type": "code",
   "execution_count": 78,
   "metadata": {},
   "outputs": [],
   "source": [
    "##Creating the class of revenue bin\n",
    "Final_Data['class'] = pd.qcut(df['Total_Amt'],q=[0,0.5,1], \n",
    "                              labels=['0', '1'])"
   ]
  },
  {
   "cell_type": "code",
   "execution_count": 79,
   "metadata": {},
   "outputs": [],
   "source": [
    "train_X,test_X,train_y,test_y=train_test_split(Final_Data.iloc[:,0:5],Final_Data.iloc[:,5:],test_size=0.3,random_state=42)"
   ]
  },
  {
   "cell_type": "code",
   "execution_count": 80,
   "metadata": {},
   "outputs": [
    {
     "data": {
      "text/html": [
       "<div>\n",
       "<style scoped>\n",
       "    .dataframe tbody tr th:only-of-type {\n",
       "        vertical-align: middle;\n",
       "    }\n",
       "\n",
       "    .dataframe tbody tr th {\n",
       "        vertical-align: top;\n",
       "    }\n",
       "\n",
       "    .dataframe thead th {\n",
       "        text-align: right;\n",
       "    }\n",
       "</style>\n",
       "<table border=\"1\" class=\"dataframe\">\n",
       "  <thead>\n",
       "    <tr style=\"text-align: right;\">\n",
       "      <th></th>\n",
       "      <th>Total_Amt</th>\n",
       "      <th>tar</th>\n",
       "      <th>class</th>\n",
       "    </tr>\n",
       "  </thead>\n",
       "  <tbody>\n",
       "    <tr>\n",
       "      <th>2986</th>\n",
       "      <td>61403</td>\n",
       "      <td>11.025214</td>\n",
       "      <td>1</td>\n",
       "    </tr>\n",
       "    <tr>\n",
       "      <th>5634</th>\n",
       "      <td>201343</td>\n",
       "      <td>12.212765</td>\n",
       "      <td>1</td>\n",
       "    </tr>\n",
       "    <tr>\n",
       "      <th>360</th>\n",
       "      <td>18037</td>\n",
       "      <td>9.800180</td>\n",
       "      <td>1</td>\n",
       "    </tr>\n",
       "    <tr>\n",
       "      <th>4287</th>\n",
       "      <td>21908</td>\n",
       "      <td>9.994607</td>\n",
       "      <td>1</td>\n",
       "    </tr>\n",
       "    <tr>\n",
       "      <th>4853</th>\n",
       "      <td>17337</td>\n",
       "      <td>9.760598</td>\n",
       "      <td>0</td>\n",
       "    </tr>\n",
       "  </tbody>\n",
       "</table>\n",
       "</div>"
      ],
      "text/plain": [
       "      Total_Amt        tar class\n",
       "2986      61403  11.025214     1\n",
       "5634     201343  12.212765     1\n",
       "360       18037   9.800180     1\n",
       "4287      21908   9.994607     1\n",
       "4853      17337   9.760598     0"
      ]
     },
     "execution_count": 80,
     "metadata": {},
     "output_type": "execute_result"
    }
   ],
   "source": [
    "train_y.head(5)"
   ]
  },
  {
   "cell_type": "code",
   "execution_count": 81,
   "metadata": {},
   "outputs": [],
   "source": [
    "from sklearn.preprocessing import LabelEncoder\n",
    "enc=LabelEncoder()"
   ]
  },
  {
   "cell_type": "code",
   "execution_count": 82,
   "metadata": {},
   "outputs": [],
   "source": [
    "train_X['City_Category']=enc.fit_transform(train_X['City_Category'].astype('str'))\n",
    "test_X['City_Category']=enc.transform(test_X['City_Category'].astype('str'))"
   ]
  },
  {
   "cell_type": "code",
   "execution_count": 83,
   "metadata": {},
   "outputs": [],
   "source": [
    "train_X['Gender']=enc.fit_transform(train_X['Gender'].astype('str'))\n",
    "test_X['Gender']=enc.transform(test_X['Gender'].astype('str'))\n",
    "\n",
    "train_X['Occupation']=enc.fit_transform(train_X['Occupation'].astype('str'))\n",
    "test_X['Occupation']=enc.transform(test_X['Occupation'].astype('str'))\n",
    "\n",
    "train_X['Marital_Status']=enc.fit_transform(train_X['Marital_Status'].astype('str'))\n",
    "test_X['Marital_Status']=enc.transform(test_X['Marital_Status'].astype('str'))"
   ]
  },
  {
   "cell_type": "code",
   "execution_count": 84,
   "metadata": {},
   "outputs": [],
   "source": [
    "from sklearn.linear_model import LinearRegression\n",
    "linreg=LinearRegression()\n",
    "linreg_exp=LinearRegression()\n",
    "\n",
    "linreg1=linreg.fit(train_X,train_y['Total_Amt'])\n",
    "linreg2=linreg_exp.fit(train_X,train_y['tar'])\n",
    "\n"
   ]
  },
  {
   "cell_type": "code",
   "execution_count": null,
   "metadata": {},
   "outputs": [],
   "source": []
  },
  {
   "cell_type": "code",
   "execution_count": 85,
   "metadata": {},
   "outputs": [],
   "source": [
    "train_pred_amt=linreg1.predict(train_X)\n",
    "test_pred_amt=linreg1.predict(test_X)"
   ]
  },
  {
   "cell_type": "code",
   "execution_count": 86,
   "metadata": {},
   "outputs": [],
   "source": [
    "train_pred_log=linreg2.predict(train_X)\n",
    "test_pred_log=linreg2.predict(test_X)"
   ]
  },
  {
   "cell_type": "code",
   "execution_count": 87,
   "metadata": {},
   "outputs": [
    {
     "data": {
      "text/plain": [
       "array([40145.09330532, 58228.2454183 , 40822.14811357, 21913.98671927,\n",
       "       19668.28284671, 39863.87357626, 40337.65102027, 21064.18855437,\n",
       "       21242.00684692, 20206.99746307])"
      ]
     },
     "execution_count": 87,
     "metadata": {},
     "output_type": "execute_result"
    }
   ],
   "source": [
    "test_pred_amt[0:10]"
   ]
  },
  {
   "cell_type": "code",
   "execution_count": 88,
   "metadata": {},
   "outputs": [
    {
     "data": {
      "text/plain": [
       "array([10.02778562, 10.46934943,  9.9593663 ,  9.56153083,  9.52214848,\n",
       "       10.01307591, 10.04119264,  9.49890935,  9.60307401,  9.49058656])"
      ]
     },
     "execution_count": 88,
     "metadata": {},
     "output_type": "execute_result"
    }
   ],
   "source": [
    "test_pred_log[0:10]"
   ]
  },
  {
   "cell_type": "code",
   "execution_count": 89,
   "metadata": {},
   "outputs": [
    {
     "name": "stdout",
     "output_type": "stream",
     "text": [
      "20977.377769031023\n",
      "\n",
      "\n",
      "21160.062825308556\n"
     ]
    }
   ],
   "source": [
    "\n",
    "print(np.sqrt(((train_y['tar'] - np.exp(train_pred_log)) ** 2).mean()))\n",
    "print(\"\\n\")\n",
    "print(np.sqrt(((test_y['tar'] - np.exp(test_pred_log)) ** 2).mean()))\n"
   ]
  },
  {
   "cell_type": "code",
   "execution_count": 90,
   "metadata": {},
   "outputs": [
    {
     "name": "stdout",
     "output_type": "stream",
     "text": [
      "36591.00741377339\n",
      "\n",
      "\n",
      "36907.35676407282\n"
     ]
    }
   ],
   "source": [
    "print(np.sqrt(((train_y['Total_Amt'] - train_pred_amt) ** 2).mean()))\n",
    "print(\"\\n\")\n",
    "print(np.sqrt(((test_y['Total_Amt'] - test_pred_amt) ** 2).mean()))\n"
   ]
  },
  {
   "cell_type": "code",
   "execution_count": 91,
   "metadata": {},
   "outputs": [],
   "source": [
    "x=train_y['Total_Amt'] - np.exp(train_pred_log)"
   ]
  },
  {
   "cell_type": "code",
   "execution_count": 92,
   "metadata": {},
   "outputs": [
    {
     "data": {
      "text/plain": [
       "<matplotlib.axes._subplots.AxesSubplot at 0x1480afc30f0>"
      ]
     },
     "execution_count": 92,
     "metadata": {},
     "output_type": "execute_result"
    },
    {
     "data": {
      "image/png": "[encoded data removed]",
      "text/plain": [
       "<Figure size 432x288 with 1 Axes>"
      ]
     },
     "metadata": {},
     "output_type": "display_data"
    }
   ],
   "source": [
    "x.hist()"
   ]
  },
  {
   "cell_type": "code",
   "execution_count": 93,
   "metadata": {},
   "outputs": [],
   "source": [
    "### Decision Tree\n",
    "from sklearn.tree import DecisionTreeRegressor\n",
    "mod=DecisionTreeRegressor(max_depth=4)\n",
    "\n",
    "mod=mod.fit(train_X,train_y['Total_Amt'])"
   ]
  },
  {
   "cell_type": "code",
   "execution_count": 94,
   "metadata": {},
   "outputs": [
    {
     "name": "stdout",
     "output_type": "stream",
     "text": [
      "35812.75847574997\n",
      "\n",
      "\n",
      "36721.461911313934\n"
     ]
    }
   ],
   "source": [
    "train_pred_dt=mod.predict(train_X)\n",
    "test_pred_dt=mod.predict(test_X)\n",
    "\n",
    "print(np.sqrt(((train_y['Total_Amt'] - train_pred_dt) ** 2).mean()))\n",
    "print(\"\\n\")\n",
    "print(np.sqrt(((test_y['Total_Amt'] - test_pred_dt) ** 2).mean()))\n"
   ]
  },
  {
   "cell_type": "code",
   "execution_count": 95,
   "metadata": {},
   "outputs": [
    {
     "name": "stdout",
     "output_type": "stream",
     "text": [
      "38816.13917751102\n",
      "\n",
      "\n",
      "39150.24164019536\n"
     ]
    }
   ],
   "source": [
    "mod1=DecisionTreeRegressor(max_depth=4)\n",
    "\n",
    "mod1=mod1.fit(train_X,train_y['tar'])\n",
    "\n",
    "train_pred_logi=mod1.predict(train_X)\n",
    "test_pred_logi=mod1.predict(test_X)\n",
    "\n",
    "print(np.sqrt(((train_y['Total_Amt'] - np.exp(train_pred_logi)) ** 2).mean()))\n",
    "print(\"\\n\")\n",
    "print(np.sqrt(((test_y['Total_Amt'] - np.exp(test_pred_logi)) ** 2).mean()))\n"
   ]
  },
  {
   "cell_type": "markdown",
   "metadata": {},
   "source": [
    "##### Observe that the error is very high\n",
    "- Is it because we are trying to predict revenue for each individual. But is it really the way to solve this problem\n",
    "- If we can give in a more coarse form like which of them could be high revenue generating customers, or mid or low revenue generating customers, would that be sufficient for target marketing "
   ]
  },
  {
   "cell_type": "code",
   "execution_count": 96,
   "metadata": {},
   "outputs": [],
   "source": [
    "from sklearn.tree import DecisionTreeClassifier\n",
    "mod=DecisionTreeClassifier(class_weight='balanced')\n",
    "mod=mod.fit(train_X,train_y['class'])\n",
    "\n",
    "train_pred=mod.predict(train_X)\n",
    "test_pred=mod.predict(test_X)"
   ]
  },
  {
   "cell_type": "code",
   "execution_count": 97,
   "metadata": {},
   "outputs": [
    {
     "name": "stdout",
     "output_type": "stream",
     "text": [
      "             precision    recall  f1-score   support\n",
      "\n",
      "          0       0.79      0.93      0.86      2041\n",
      "          1       0.92      0.76      0.83      2075\n",
      "\n",
      "avg / total       0.86      0.85      0.85      4116\n",
      "\n",
      "\n",
      "\n",
      "             precision    recall  f1-score   support\n",
      "\n",
      "          0       0.55      0.60      0.58       898\n",
      "          1       0.55      0.50      0.52       867\n",
      "\n",
      "avg / total       0.55      0.55      0.55      1765\n",
      "\n"
     ]
    }
   ],
   "source": [
    "from sklearn.metrics import confusion_matrix, classification_report\n",
    "print(classification_report(train_y['class'],train_pred))\n",
    "print(\"\\n\")\n",
    "print(classification_report(test_y['class'],test_pred))"
   ]
  },
  {
   "cell_type": "code",
   "execution_count": 99,
   "metadata": {
    "scrolled": true
   },
   "outputs": [
    {
     "name": "stderr",
     "output_type": "stream",
     "text": [
      "C:\\Users\\Somagiri\\Anaconda3\\lib\\site-packages\\sklearn\\ensemble\\weight_boosting.py:29: DeprecationWarning: numpy.core.umath_tests is an internal NumPy module and should not be imported. It will be removed in a future NumPy release.\n",
      "  from numpy.core.umath_tests import inner1d\n"
     ]
    },
    {
     "data": {
      "text/plain": [
       "AdaBoostClassifier(algorithm='SAMME.R',\n",
       "          base_estimator=DecisionTreeClassifier(class_weight='balanced', criterion='gini', max_depth=4,\n",
       "            max_features=None, max_leaf_nodes=None,\n",
       "            min_impurity_decrease=0.0, min_impurity_split=None,\n",
       "            min_samples_leaf=1, min_samples_split=2,\n",
       "            min_weight_fraction_leaf=0.0, presort=False, random_state=None,\n",
       "            splitter='best'),\n",
       "          learning_rate=0.1, n_estimators=500, random_state=None)"
      ]
     },
     "execution_count": 99,
     "metadata": {},
     "output_type": "execute_result"
    }
   ],
   "source": [
    "from sklearn.ensemble import AdaBoostClassifier\n",
    "classifier = AdaBoostClassifier(\n",
    "    DecisionTreeClassifier(max_depth=4,class_weight='balanced'),\n",
    "    n_estimators=500,learning_rate=0.1,\n",
    ")\n",
    "classifier.fit(train_X, train_y['class'])"
   ]
  },
  {
   "cell_type": "code",
   "execution_count": 100,
   "metadata": {},
   "outputs": [],
   "source": [
    "train_pred=classifier.predict(train_X)\n",
    "test_pred=classifier.predict(test_X)"
   ]
  },
  {
   "cell_type": "code",
   "execution_count": 101,
   "metadata": {},
   "outputs": [
    {
     "name": "stdout",
     "output_type": "stream",
     "text": [
      "             precision    recall  f1-score   support\n",
      "\n",
      "          0       0.73      0.77      0.75      2041\n",
      "          1       0.76      0.71      0.74      2075\n",
      "\n",
      "avg / total       0.74      0.74      0.74      4116\n",
      "\n",
      "\n",
      "\n",
      "             precision    recall  f1-score   support\n",
      "\n",
      "          0       0.60      0.59      0.59       898\n",
      "          1       0.58      0.58      0.58       867\n",
      "\n",
      "avg / total       0.59      0.59      0.59      1765\n",
      "\n"
     ]
    }
   ],
   "source": [
    "print(classification_report(train_y['class'],train_pred))\n",
    "print(\"\\n\")\n",
    "print(classification_report(test_y['class'],test_pred))"
   ]
  },
  {
   "cell_type": "code",
   "execution_count": 102,
   "metadata": {},
   "outputs": [
    {
     "name": "stdout",
     "output_type": "stream",
     "text": [
      "[[532 366]\n",
      " [362 505]]\n"
     ]
    }
   ],
   "source": [
    "print(confusion_matrix(test_y['class'],test_pred))"
   ]
  },
  {
   "cell_type": "code",
   "execution_count": 103,
   "metadata": {},
   "outputs": [],
   "source": [
    "from sklearn.ensemble import GradientBoostingClassifier"
   ]
  },
  {
   "cell_type": "code",
   "execution_count": 104,
   "metadata": {},
   "outputs": [
    {
     "data": {
      "text/plain": [
       "GradientBoostingClassifier(criterion='friedman_mse', init=None,\n",
       "              learning_rate=0.15, loss='deviance', max_depth=3,\n",
       "              max_features=None, max_leaf_nodes=None,\n",
       "              min_impurity_decrease=0.0, min_impurity_split=None,\n",
       "              min_samples_leaf=1, min_samples_split=2,\n",
       "              min_weight_fraction_leaf=0.0, n_estimators=500,\n",
       "              presort='auto', random_state=None, subsample=1.0, verbose=0,\n",
       "              warm_start=False)"
      ]
     },
     "execution_count": 104,
     "metadata": {},
     "output_type": "execute_result"
    }
   ],
   "source": [
    "classifier = GradientBoostingClassifier(\n",
    "    n_estimators=500,learning_rate=0.15,\n",
    ")\n",
    "classifier.fit(train_X, train_y['class'])"
   ]
  },
  {
   "cell_type": "code",
   "execution_count": 105,
   "metadata": {},
   "outputs": [
    {
     "name": "stdout",
     "output_type": "stream",
     "text": [
      "             precision    recall  f1-score   support\n",
      "\n",
      "          0       0.68      0.71      0.69      2041\n",
      "          1       0.70      0.67      0.69      2075\n",
      "\n",
      "avg / total       0.69      0.69      0.69      4116\n",
      "\n",
      "\n",
      "\n",
      "             precision    recall  f1-score   support\n",
      "\n",
      "          0       0.61      0.60      0.60       898\n",
      "          1       0.59      0.60      0.59       867\n",
      "\n",
      "avg / total       0.60      0.60      0.60      1765\n",
      "\n"
     ]
    }
   ],
   "source": [
    "train_pred=classifier.predict(train_X)\n",
    "test_pred=classifier.predict(test_X)\n",
    "\n",
    "print(classification_report(train_y['class'],train_pred))\n",
    "print(\"\\n\")\n",
    "print(classification_report(test_y['class'],test_pred))"
   ]
  },
  {
   "cell_type": "markdown",
   "metadata": {},
   "source": [
    "##### We can also perform cluster analysis based on the transactions data and the features generated from those. This cluster information would be useful for target marketing as well"
   ]
  }
 ],
 "metadata": {
  "kernelspec": {
   "display_name": "Python 3",
   "language": "python",
   "name": "python3"
  },
  "language_info": {
   "codemirror_mode": {
    "name": "ipython",
    "version": 3
   },
   "file_extension": ".py",
   "mimetype": "text/x-python",
   "name": "python",
   "nbconvert_exporter": "python",
   "pygments_lexer": "ipython3",
   "version": "3.8.2"
  },
  "varInspector": {
   "cols": {
    "lenName": 16,
    "lenType": 16,
    "lenVar": 40
   },
   "kernels_config": {
    "python": {
     "delete_cmd_postfix": "",
     "delete_cmd_prefix": "del ",
     "library": "var_list.py",
     "varRefreshCmd": "print(var_dic_list())"
    },
    "r": {
     "delete_cmd_postfix": ") ",
     "delete_cmd_prefix": "rm(",
     "library": "var_list.r",
     "varRefreshCmd": "cat(var_dic_list()) "
    }
   },
   "types_to_exclude": [
    "module",
    "function",
    "builtin_function_or_method",
    "instance",
    "_Feature"
   ],
   "window_display": false
  }
 },
 "nbformat": 4,
 "nbformat_minor": 2
}
